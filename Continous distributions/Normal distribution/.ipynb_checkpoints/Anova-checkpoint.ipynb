{
 "cells": [
  {
   "cell_type": "markdown",
   "metadata": {
    "id": "4voQE9GM4Hb6"
   },
   "source": [
    "# Experimental design\n",
    "\n",
    "The only way to prove a cause-and-effect relationship is through experiments, which have multiple components, such as:\n",
    "\n",
    "1. Factors, are the attributes that are manipulated.\n",
    "2. Levels, are the values that can be assigned to the factors.\n",
    "3. Treatment, the combination of factors and levels is the treatment.\n",
    "4. Response, is the measured variable.\n",
    "5. Subject, is the subject to whom the experiment is applied.\n",
    "\n",
    "For example, if you want to do an experiment to define at what point the dose of a certain medicine is effective, you have the dose (factor), the levels (milligrams, such as 0mg, 50mg, 100mg), if we contrast the response (response) of level 0mg with that of 50mg, that of 50mg with that of 100mg and that of 0mg with that of 100mg the treatment is obtained. Something important up to this point is that the levels must be tested with subjects (subject), these are the objects of the experiments."
   ]
  },
  {
   "cell_type": "markdown",
   "metadata": {
    "id": "WaXjwr_G5Ua0"
   },
   "source": [
    "## Estudios observacionales\n",
    "\n",
    "Los estudios observacionales son construidos empleando data pre-existente. Aqui tenemos dos tipos:\n",
    "\n",
    "Retrospectivos | Prospectivos\n",
    "--- | ---\n",
    "Examina data historica. | Colecciona data en el avance."
   ]
  },
  {
   "cell_type": "markdown",
   "metadata": {
    "id": "WoP1wrVNJQ00"
   },
   "source": [
    "## Principles of experimental design\n",
    "\n",
    "The four principles of experimental design are:\n",
    "\n",
    "- Randomize: Assign treatments to subjects at random. Randomization allows us to equalize the effects of unknown or uncontrollable sources of variation.\n",
    "Randomization makes it possible to use inference methods.\n",
    "Randomization protects against effects you cannot predict\n",
    "\"Control what you can, randomize the rest.\"\n",
    "\n",
    "- Control: Make the factors we are not testing as similar as possible for all treatment groups, Control. Make the factors we are not testing as similar as possible for all treatment groups.\n",
    "Ideally, the only difference between the groups should be the handling\n",
    "This makes it easier to discern differences between treatments.\n",
    "\n",
    "   (There is a second meaning of control. A control treatment is a special kind of treatment designed to mark the baseline of the study, and the group that receives it is called the control group.)\n",
    "\n",
    "   - Blinding: Deliberately hiding treatment details from people who could affect the outcome.\n",
    "Two sources of unwanted bias:\n",
    "Those who can influence the results (subjects, treatment administrators, technicians, etc.)\n",
    "Those who evaluate the results (judges, experimenters, etc.)\n",
    "\n",
    "   - Placebo: is a fake treatment that looks like the treatment being tested.\n",
    "\n",
    "- Repeat: Repeat the observations for each treatment.\n",
    "Making more than one observation at each level allows us to estimate the variability of the measurements.\n",
    "If the number of replicates is the same for each treatment combination, the experiment is said to be balanced.\n",
    "\n",
    "   A second type of replication consists of repeating an entire experiment for a different group of subjects, under different circumstances, or at a different time.\n",
    "- Block: Group experimental subjects that are similar to each other.\n",
    "   Blocking factors are formed according to some factor that you cannot control and feel may affect the response.\n",
    "\n",
    "   The levels of blocking factors are called blocks.\n",
    "Example of blocking factors: gender, ethnicity, marital status, etc.\n",
    "\n",
    "   In effect, dividing an experiment into n blocks is equivalent to running n separate experiments."
   ]
  },
  {
   "cell_type": "markdown",
   "metadata": {
    "id": "JJ2ah9svL9BE"
   },
   "source": [
    "## Forms of experimental design\n",
    "\n",
    "There are three forms of experimental design, these are:\n",
    "\n",
    "1. Completely random designs.\n",
    "\n",
    "   - When each of the possible treatments is assigned to at least one subject at random, the design is called a completely randomized design.\n",
    "\n",
    "   - In the simplest completely randomized design, subjects are randomly assigned to two treatments.\n",
    "\n",
    "2. Random block designs.\n",
    "\n",
    "   - When we have a blocking factor, we randomize the subject to the treatments within each block.\n",
    "\n",
    "3. Factorial Designs.\n",
    "\n",
    "   - An experiment with more than one manipulated factor is called a factorial design.\n",
    "   - A full factorial design contains treatments that represent all possible combinations of all levels of all factors.\n",
    "   - When the combination of two factors has an effect different from what would be expected by adding the effects of the two factors, this phenomenon is called an interaction.\n",
    "   - Unless your experiment incorporates a factorial design, you cannot see the interactions and this can be a serious omission."
   ]
  },
  {
   "cell_type": "markdown",
   "metadata": {
    "id": "Tr9tXNFRM_E-"
   },
   "source": [
    "# Anova(F-statistic)\n",
    "At the moment we have tools to perform hypothesis tests with one and two samples, but what happens if we have more than two samples, this is where we could use the t-student test multiple times, but here a problem arises and this is that when using the t-student test multiple times the probability of error also increases, for example if you have a 95% probability of success and the test is performed 4 times this probability, you have that:\n",
    "\n",
    "$$0.95^4 = 0.8145$$\n",
    "\n",
    "Then the probability of success is reduced to just over 81%. In order to avoid this and do multiple tests, **Anova(Analysis of variance)** can be used.\n",
    "\n",
    "There are two main types of Anova which are:\n",
    "\n",
    "- One way (When you have a factor).\n",
    "\n",
    "- Two way (When you have two factors).\n",
    "\n",
    "- Multiple Anova (When there are more than two factors)."
   ]
  },
  {
   "cell_type": "markdown",
   "metadata": {
    "id": "2SDKGcKDFoGB"
   },
   "source": [
    "# One Way Anova"
   ]
  },
  {
   "cell_type": "markdown",
   "metadata": {
    "id": "VsRxnNnpGFSu"
   },
   "source": [
    "## Assumptions\n",
    "\n",
    "- Assumption of independence: the samples must be independent of each other.\n",
    "\n",
    "- Assumption of equal variance: the variances of the populations from which the samples were drawn are equal. That is, $\\sigma^2_1 = \\sigma^2_2 = \\sigma^2_3...$.\n",
    "\n",
    "- Normal population condition: The composition of the samples must be normal."
   ]
  },
  {
   "cell_type": "markdown",
   "metadata": {
    "id": "tdRfIEZCDtGF"
   },
   "source": [
    "## Hypothesis\n",
    "\n",
    "$H_0$ (null hypothesis one way anova case) | $H_a$ (Alternative hypothesis one way anova case)\n",
    "--- | ---\n",
    "$H_0: \\mu_1 = \\mu_2 = ... \\mu_k$ | $H_a: \\text{The least one of the means is different}$"
   ]
  },
  {
   "cell_type": "markdown",
   "metadata": {
    "id": "NeY96-5FooJj"
   },
   "source": [
    "## Formula\n",
    "\n",
    "There is a formula to obtain the **F** statistic, this formula has the following form:\n",
    "\n",
    "$$F = \\frac{MS_B}{MS_W}$$\n",
    "\n",
    "$$MS_B = \\frac{\\text{Sum of square between sample}}{K - 1}$$\n",
    "\n",
    "$$MS_W = \\frac{\\text{Sum of square within sample}}{n_T - k}$$"
   ]
  },
  {
   "cell_type": "markdown",
   "metadata": {
    "id": "BKiGF0QKC30t"
   },
   "source": [
    "### Data\n",
    "\n",
    "We will work with imaginary data simulating the tests of a certain drug where there are 3 levels (placebo, high, low) and a single factor (dosage)."
   ]
  },
  {
   "cell_type": "code",
   "execution_count": 2,
   "metadata": {
    "id": "iTVgc19uwoIH"
   },
   "outputs": [],
   "source": [
    "import numpy as np\n",
    "\n",
    "placebo= [3,2,1,1,4]\n",
    "low= [5,2,4,2,3]\n",
    "high=\t[7,4,5,3,6]\n",
    "total= placebo + low + high"
   ]
  },
  {
   "cell_type": "markdown",
   "metadata": {
    "id": "2Hth1o_T3fdi"
   },
   "source": [
    "### $MS_B$"
   ]
  },
  {
   "cell_type": "markdown",
   "metadata": {
    "id": "Fibx2TsELLol"
   },
   "source": [
    "#### Between samples \n",
    "\n",
    "$$\\text{Sum of squares between samples} = \\sum\\text{Sample size}(\\text{mean sample - mean total})^2$$"
   ]
  },
  {
   "cell_type": "code",
   "execution_count": 3,
   "metadata": {
    "colab": {
     "base_uri": "https://localhost:8080/"
    },
    "executionInfo": {
     "elapsed": 24,
     "status": "ok",
     "timestamp": 1674674051622,
     "user": {
      "displayName": "Adrian Hermoza Bayona",
      "userId": "18407196184190084623"
     },
     "user_tz": 300
    },
    "id": "d1EfgBkWMNoz",
    "outputId": "368dd41f-c7d7-4103-f071-7d2dbcfe81bc"
   },
   "outputs": [
    {
     "data": {
      "text/plain": [
       "(2.2, 3.2, 5.0, 3.466666666666667)"
      ]
     },
     "execution_count": 3,
     "metadata": {},
     "output_type": "execute_result"
    }
   ],
   "source": [
    "# Means\n",
    "\n",
    "mplacebo= np.mean(placebo)\n",
    "mlow= np.mean(low)\n",
    "mhigh= np.mean(high)\n",
    "mtotal= np.mean(total)\n",
    "\n",
    "mplacebo, mlow, mhigh, mtotal"
   ]
  },
  {
   "cell_type": "code",
   "execution_count": 4,
   "metadata": {
    "colab": {
     "base_uri": "https://localhost:8080/"
    },
    "executionInfo": {
     "elapsed": 23,
     "status": "ok",
     "timestamp": 1674674051622,
     "user": {
      "displayName": "Adrian Hermoza Bayona",
      "userId": "18407196184190084623"
     },
     "user_tz": 300
    },
    "id": "fnpbL2obRKt8",
    "outputId": "33c12f4c-f0a7-43a8-d546-07fe6c4232d8"
   },
   "outputs": [
    {
     "data": {
      "text/plain": [
       "20.133333333333333"
      ]
     },
     "execution_count": 4,
     "metadata": {},
     "output_type": "execute_result"
    }
   ],
   "source": [
    "# Sum of squares between samples\n",
    "\n",
    "sumOfSquaresBetween = 5*(mplacebo-mtotal)**2 + 5*(mlow-mtotal)**2 + 5*(mhigh-mtotal)**2\n",
    "sumOfSquaresBetween"
   ]
  },
  {
   "cell_type": "markdown",
   "metadata": {
    "id": "oXRpQCWw1vKC"
   },
   "source": [
    "#### K\n",
    "\n",
    "$$k = \\text{Num of samples}$$"
   ]
  },
  {
   "cell_type": "code",
   "execution_count": 5,
   "metadata": {
    "id": "GFHco3yc0TgT"
   },
   "outputs": [],
   "source": [
    "# K\n",
    "\n",
    "k = 3 # placebo, low, high"
   ]
  },
  {
   "cell_type": "code",
   "execution_count": 6,
   "metadata": {
    "colab": {
     "base_uri": "https://localhost:8080/"
    },
    "executionInfo": {
     "elapsed": 22,
     "status": "ok",
     "timestamp": 1674674051623,
     "user": {
      "displayName": "Adrian Hermoza Bayona",
      "userId": "18407196184190084623"
     },
     "user_tz": 300
    },
    "id": "ny6v3mgG2XL6",
    "outputId": "7f72ee71-408e-44be-8a0e-609ddd3a9e3d"
   },
   "outputs": [
    {
     "data": {
      "text/plain": [
       "10.066666666666666"
      ]
     },
     "execution_count": 6,
     "metadata": {},
     "output_type": "execute_result"
    }
   ],
   "source": [
    "msb = sumOfSquaresBetween / (k-1)\n",
    "msb"
   ]
  },
  {
   "cell_type": "markdown",
   "metadata": {
    "id": "-uNDsOMp3t_6"
   },
   "source": [
    "### $MS_W$"
   ]
  },
  {
   "cell_type": "markdown",
   "metadata": {
    "id": "du_Xrhx032ZS"
   },
   "source": [
    "#### Within samples\n",
    "\n",
    "$$\\text{Sum of squares within samples} = \\sum(\\text{Sample size} - 1)\\text{variance sample}$$"
   ]
  },
  {
   "cell_type": "code",
   "execution_count": 7,
   "metadata": {
    "colab": {
     "base_uri": "https://localhost:8080/"
    },
    "executionInfo": {
     "elapsed": 14,
     "status": "ok",
     "timestamp": 1674674051623,
     "user": {
      "displayName": "Adrian Hermoza Bayona",
      "userId": "18407196184190084623"
     },
     "user_tz": 300
    },
    "id": "va9p0ohJ5Hy6",
    "outputId": "0002f252-7d0b-406e-f294-4ff31e1dc05f"
   },
   "outputs": [
    {
     "data": {
      "text/plain": [
       "(1.7, 1.7, 2.5, 3.123809523809524)"
      ]
     },
     "execution_count": 7,
     "metadata": {},
     "output_type": "execute_result"
    }
   ],
   "source": [
    "# Variances\n",
    "\n",
    "vplacebo= np.var(placebo, ddof=1)\n",
    "vlow= np.var(low, ddof=1)\n",
    "vhigh= np.var(high, ddof=1)\n",
    "vtotal= np.var(total, ddof=1)\n",
    "\n",
    "vplacebo, vlow, vhigh, vtotal"
   ]
  },
  {
   "cell_type": "code",
   "execution_count": 8,
   "metadata": {
    "colab": {
     "base_uri": "https://localhost:8080/"
    },
    "executionInfo": {
     "elapsed": 13,
     "status": "ok",
     "timestamp": 1674674051623,
     "user": {
      "displayName": "Adrian Hermoza Bayona",
      "userId": "18407196184190084623"
     },
     "user_tz": 300
    },
    "id": "hRG_ZIQu5gby",
    "outputId": "e8be88ec-c970-453d-a036-a12e4d13a613"
   },
   "outputs": [
    {
     "data": {
      "text/plain": [
       "23.6"
      ]
     },
     "execution_count": 8,
     "metadata": {},
     "output_type": "execute_result"
    }
   ],
   "source": [
    "# Sum of squares within samples\n",
    "\n",
    "sumOfSquaresWithin =  ((len(placebo)-1) * vplacebo) + ((len(low)-1) * vlow) + ((len(high)-1) * vhigh)\n",
    "sumOfSquaresWithin"
   ]
  },
  {
   "cell_type": "markdown",
   "metadata": {
    "id": "TNCN_3_F6PY6"
   },
   "source": [
    "#### K\n",
    "\n",
    "$$k = \\text{Num of samples}$$"
   ]
  },
  {
   "cell_type": "code",
   "execution_count": 9,
   "metadata": {
    "colab": {
     "base_uri": "https://localhost:8080/"
    },
    "executionInfo": {
     "elapsed": 13,
     "status": "ok",
     "timestamp": 1674674051624,
     "user": {
      "displayName": "Adrian Hermoza Bayona",
      "userId": "18407196184190084623"
     },
     "user_tz": 300
    },
    "id": "AUFSwq2l6UPK",
    "outputId": "0fe989de-9d9a-4339-804b-65555f2e3538"
   },
   "outputs": [
    {
     "data": {
      "text/plain": [
       "12"
      ]
     },
     "execution_count": 9,
     "metadata": {},
     "output_type": "execute_result"
    }
   ],
   "source": [
    "# nT -k\n",
    "\n",
    "len(total) - k"
   ]
  },
  {
   "cell_type": "code",
   "execution_count": 10,
   "metadata": {
    "colab": {
     "base_uri": "https://localhost:8080/"
    },
    "executionInfo": {
     "elapsed": 12,
     "status": "ok",
     "timestamp": 1674674051624,
     "user": {
      "displayName": "Adrian Hermoza Bayona",
      "userId": "18407196184190084623"
     },
     "user_tz": 300
    },
    "id": "BJ6iFULI6j16",
    "outputId": "91114a78-3a7c-4cc7-d230-00540c9be0ab"
   },
   "outputs": [
    {
     "data": {
      "text/plain": [
       "1.9666666666666668"
      ]
     },
     "execution_count": 10,
     "metadata": {},
     "output_type": "execute_result"
    }
   ],
   "source": [
    "msw = sumOfSquaresWithin / (len(total) - k)\n",
    "msw"
   ]
  },
  {
   "cell_type": "markdown",
   "metadata": {
    "id": "WHHE-QDn657K"
   },
   "source": [
    "### F-Statistic\n",
    "\n",
    "$$F = \\frac{MS_B}{MS_W}$$"
   ]
  },
  {
   "cell_type": "code",
   "execution_count": 11,
   "metadata": {
    "colab": {
     "base_uri": "https://localhost:8080/"
    },
    "executionInfo": {
     "elapsed": 11,
     "status": "ok",
     "timestamp": 1674674051624,
     "user": {
      "displayName": "Adrian Hermoza Bayona",
      "userId": "18407196184190084623"
     },
     "user_tz": 300
    },
    "id": "IMGHKSFv68vR",
    "outputId": "37388684-b46a-409e-bbc2-a616a929e232"
   },
   "outputs": [
    {
     "data": {
      "text/plain": [
       "5.11864406779661"
      ]
     },
     "execution_count": 11,
     "metadata": {},
     "output_type": "execute_result"
    }
   ],
   "source": [
    "f = msb/msw\n",
    "f"
   ]
  },
  {
   "cell_type": "markdown",
   "metadata": {
    "id": "27ZCJ1Wq7Od7"
   },
   "source": [
    "## Using scipy"
   ]
  },
  {
   "cell_type": "code",
   "execution_count": 12,
   "metadata": {
    "colab": {
     "base_uri": "https://localhost:8080/"
    },
    "executionInfo": {
     "elapsed": 10,
     "status": "ok",
     "timestamp": 1674674051624,
     "user": {
      "displayName": "Adrian Hermoza Bayona",
      "userId": "18407196184190084623"
     },
     "user_tz": 300
    },
    "id": "Qv8zx93-7Ova",
    "outputId": "f107ad7c-1d3e-4747-f536-4329aef6fadc"
   },
   "outputs": [
    {
     "data": {
      "text/plain": [
       "F_onewayResult(statistic=5.11864406779661, pvalue=0.024694289538222603)"
      ]
     },
     "execution_count": 12,
     "metadata": {},
     "output_type": "execute_result"
    }
   ],
   "source": [
    "from scipy.stats import f_oneway\n",
    "\n",
    "f_oneway(placebo, low, high)"
   ]
  },
  {
   "cell_type": "markdown",
   "metadata": {
    "id": "RqMiei4GG9sS"
   },
   "source": [
    "## Using statsmodels"
   ]
  },
  {
   "cell_type": "markdown",
   "metadata": {
    "id": "ZOmNfD_THIH2"
   },
   "source": [
    "### Converting data to DataFrame\n",
    "In order to use statsmodels it is necessary to use the pandas library and convert the data into a DataFrame."
   ]
  },
  {
   "cell_type": "code",
   "execution_count": 13,
   "metadata": {
    "colab": {
     "base_uri": "https://localhost:8080/",
     "height": 206
    },
    "executionInfo": {
     "elapsed": 10,
     "status": "ok",
     "timestamp": 1674674051625,
     "user": {
      "displayName": "Adrian Hermoza Bayona",
      "userId": "18407196184190084623"
     },
     "user_tz": 300
    },
    "id": "7woWJ0pmHoPb",
    "outputId": "3d781e97-973b-4eb2-e11a-eeb3e65de2bb"
   },
   "outputs": [
    {
     "data": {
      "text/html": [
       "<div>\n",
       "<style scoped>\n",
       "    .dataframe tbody tr th:only-of-type {\n",
       "        vertical-align: middle;\n",
       "    }\n",
       "\n",
       "    .dataframe tbody tr th {\n",
       "        vertical-align: top;\n",
       "    }\n",
       "\n",
       "    .dataframe thead th {\n",
       "        text-align: right;\n",
       "    }\n",
       "</style>\n",
       "<table border=\"1\" class=\"dataframe\">\n",
       "  <thead>\n",
       "    <tr style=\"text-align: right;\">\n",
       "      <th></th>\n",
       "      <th>Placebo</th>\n",
       "      <th>High</th>\n",
       "      <th>Low</th>\n",
       "    </tr>\n",
       "  </thead>\n",
       "  <tbody>\n",
       "    <tr>\n",
       "      <th>0</th>\n",
       "      <td>3</td>\n",
       "      <td>7</td>\n",
       "      <td>5</td>\n",
       "    </tr>\n",
       "    <tr>\n",
       "      <th>1</th>\n",
       "      <td>2</td>\n",
       "      <td>4</td>\n",
       "      <td>2</td>\n",
       "    </tr>\n",
       "    <tr>\n",
       "      <th>2</th>\n",
       "      <td>1</td>\n",
       "      <td>5</td>\n",
       "      <td>4</td>\n",
       "    </tr>\n",
       "    <tr>\n",
       "      <th>3</th>\n",
       "      <td>1</td>\n",
       "      <td>3</td>\n",
       "      <td>2</td>\n",
       "    </tr>\n",
       "    <tr>\n",
       "      <th>4</th>\n",
       "      <td>4</td>\n",
       "      <td>6</td>\n",
       "      <td>3</td>\n",
       "    </tr>\n",
       "  </tbody>\n",
       "</table>\n",
       "</div>"
      ],
      "text/plain": [
       "   Placebo  High  Low\n",
       "0        3     7    5\n",
       "1        2     4    2\n",
       "2        1     5    4\n",
       "3        1     3    2\n",
       "4        4     6    3"
      ]
     },
     "execution_count": 13,
     "metadata": {},
     "output_type": "execute_result"
    }
   ],
   "source": [
    "import pandas as pd\n",
    "\n",
    "df = pd.DataFrame({\n",
    "    'Placebo': placebo,\n",
    "    'High': high,\n",
    "    'Low': low\n",
    "})\n",
    "\n",
    "df"
   ]
  },
  {
   "cell_type": "markdown",
   "metadata": {
    "id": "4ltISisGINg1"
   },
   "source": [
    "### Melting\n",
    "\n",
    "In order to perform a One Way Anova Test, it is necessary to gather all the data and this is done through a process called melting."
   ]
  },
  {
   "cell_type": "code",
   "execution_count": 14,
   "metadata": {
    "colab": {
     "base_uri": "https://localhost:8080/",
     "height": 519
    },
    "executionInfo": {
     "elapsed": 10,
     "status": "ok",
     "timestamp": 1674674051626,
     "user": {
      "displayName": "Adrian Hermoza Bayona",
      "userId": "18407196184190084623"
     },
     "user_tz": 300
    },
    "id": "9hAzBdMMIepV",
    "outputId": "0c923087-6628-490b-bc55-71609eb552a6"
   },
   "outputs": [
    {
     "data": {
      "text/html": [
       "<div>\n",
       "<style scoped>\n",
       "    .dataframe tbody tr th:only-of-type {\n",
       "        vertical-align: middle;\n",
       "    }\n",
       "\n",
       "    .dataframe tbody tr th {\n",
       "        vertical-align: top;\n",
       "    }\n",
       "\n",
       "    .dataframe thead th {\n",
       "        text-align: right;\n",
       "    }\n",
       "</style>\n",
       "<table border=\"1\" class=\"dataframe\">\n",
       "  <thead>\n",
       "    <tr style=\"text-align: right;\">\n",
       "      <th></th>\n",
       "      <th>variable</th>\n",
       "      <th>value</th>\n",
       "    </tr>\n",
       "  </thead>\n",
       "  <tbody>\n",
       "    <tr>\n",
       "      <th>0</th>\n",
       "      <td>Placebo</td>\n",
       "      <td>3</td>\n",
       "    </tr>\n",
       "    <tr>\n",
       "      <th>1</th>\n",
       "      <td>Placebo</td>\n",
       "      <td>2</td>\n",
       "    </tr>\n",
       "    <tr>\n",
       "      <th>2</th>\n",
       "      <td>Placebo</td>\n",
       "      <td>1</td>\n",
       "    </tr>\n",
       "    <tr>\n",
       "      <th>3</th>\n",
       "      <td>Placebo</td>\n",
       "      <td>1</td>\n",
       "    </tr>\n",
       "    <tr>\n",
       "      <th>4</th>\n",
       "      <td>Placebo</td>\n",
       "      <td>4</td>\n",
       "    </tr>\n",
       "    <tr>\n",
       "      <th>5</th>\n",
       "      <td>High</td>\n",
       "      <td>7</td>\n",
       "    </tr>\n",
       "    <tr>\n",
       "      <th>6</th>\n",
       "      <td>High</td>\n",
       "      <td>4</td>\n",
       "    </tr>\n",
       "    <tr>\n",
       "      <th>7</th>\n",
       "      <td>High</td>\n",
       "      <td>5</td>\n",
       "    </tr>\n",
       "    <tr>\n",
       "      <th>8</th>\n",
       "      <td>High</td>\n",
       "      <td>3</td>\n",
       "    </tr>\n",
       "    <tr>\n",
       "      <th>9</th>\n",
       "      <td>High</td>\n",
       "      <td>6</td>\n",
       "    </tr>\n",
       "    <tr>\n",
       "      <th>10</th>\n",
       "      <td>Low</td>\n",
       "      <td>5</td>\n",
       "    </tr>\n",
       "    <tr>\n",
       "      <th>11</th>\n",
       "      <td>Low</td>\n",
       "      <td>2</td>\n",
       "    </tr>\n",
       "    <tr>\n",
       "      <th>12</th>\n",
       "      <td>Low</td>\n",
       "      <td>4</td>\n",
       "    </tr>\n",
       "    <tr>\n",
       "      <th>13</th>\n",
       "      <td>Low</td>\n",
       "      <td>2</td>\n",
       "    </tr>\n",
       "    <tr>\n",
       "      <th>14</th>\n",
       "      <td>Low</td>\n",
       "      <td>3</td>\n",
       "    </tr>\n",
       "  </tbody>\n",
       "</table>\n",
       "</div>"
      ],
      "text/plain": [
       "   variable  value\n",
       "0   Placebo      3\n",
       "1   Placebo      2\n",
       "2   Placebo      1\n",
       "3   Placebo      1\n",
       "4   Placebo      4\n",
       "5      High      7\n",
       "6      High      4\n",
       "7      High      5\n",
       "8      High      3\n",
       "9      High      6\n",
       "10      Low      5\n",
       "11      Low      2\n",
       "12      Low      4\n",
       "13      Low      2\n",
       "14      Low      3"
      ]
     },
     "execution_count": 14,
     "metadata": {},
     "output_type": "execute_result"
    }
   ],
   "source": [
    "df_melted = pd.melt(df, value_vars= ['Placebo', 'High', 'Low'])\n",
    "df_melted"
   ]
  },
  {
   "cell_type": "markdown",
   "metadata": {
    "id": "bYFHQ2SQIwKZ"
   },
   "source": [
    "### Anova"
   ]
  },
  {
   "cell_type": "code",
   "execution_count": 15,
   "metadata": {
    "colab": {
     "base_uri": "https://localhost:8080/",
     "height": 112
    },
    "executionInfo": {
     "elapsed": 900,
     "status": "ok",
     "timestamp": 1674674052517,
     "user": {
      "displayName": "Adrian Hermoza Bayona",
      "userId": "18407196184190084623"
     },
     "user_tz": 300
    },
    "id": "5EfPKJJdJqAF",
    "outputId": "6539d699-513f-4f1f-bd94-f9b87ea943af"
   },
   "outputs": [
    {
     "data": {
      "text/html": [
       "<div>\n",
       "<style scoped>\n",
       "    .dataframe tbody tr th:only-of-type {\n",
       "        vertical-align: middle;\n",
       "    }\n",
       "\n",
       "    .dataframe tbody tr th {\n",
       "        vertical-align: top;\n",
       "    }\n",
       "\n",
       "    .dataframe thead th {\n",
       "        text-align: right;\n",
       "    }\n",
       "</style>\n",
       "<table border=\"1\" class=\"dataframe\">\n",
       "  <thead>\n",
       "    <tr style=\"text-align: right;\">\n",
       "      <th></th>\n",
       "      <th>sum_sq</th>\n",
       "      <th>df</th>\n",
       "      <th>F</th>\n",
       "      <th>PR(&gt;F)</th>\n",
       "    </tr>\n",
       "  </thead>\n",
       "  <tbody>\n",
       "    <tr>\n",
       "      <th>variable</th>\n",
       "      <td>20.133333</td>\n",
       "      <td>2.0</td>\n",
       "      <td>5.118644</td>\n",
       "      <td>0.024694</td>\n",
       "    </tr>\n",
       "    <tr>\n",
       "      <th>Residual</th>\n",
       "      <td>23.600000</td>\n",
       "      <td>12.0</td>\n",
       "      <td>NaN</td>\n",
       "      <td>NaN</td>\n",
       "    </tr>\n",
       "  </tbody>\n",
       "</table>\n",
       "</div>"
      ],
      "text/plain": [
       "             sum_sq    df         F    PR(>F)\n",
       "variable  20.133333   2.0  5.118644  0.024694\n",
       "Residual  23.600000  12.0       NaN       NaN"
      ]
     },
     "execution_count": 15,
     "metadata": {},
     "output_type": "execute_result"
    }
   ],
   "source": [
    "import statsmodels.api as sm\n",
    "from statsmodels.formula.api import ols\n",
    "\n",
    "model = ols('value ~ variable', data= df_melted).fit()\n",
    "anova_model = sm.stats.anova_lm(model, typ= 2)\n",
    "anova_model"
   ]
  },
  {
   "cell_type": "markdown",
   "metadata": {
    "id": "UgRnKbbXQ_b0"
   },
   "source": [
    "## Tukey one way anova test\n",
    "Although it is true that it is possible to know if a sample is different from the rest using anova, the information is not complete, since it is necessary to know which of the samples is different and to what extent, this is where the Tukey test comes in."
   ]
  },
  {
   "cell_type": "code",
   "execution_count": 16,
   "metadata": {
    "colab": {
     "base_uri": "https://localhost:8080/",
     "height": 492
    },
    "executionInfo": {
     "elapsed": 361,
     "status": "ok",
     "timestamp": 1674674052874,
     "user": {
      "displayName": "Adrian Hermoza Bayona",
      "userId": "18407196184190084623"
     },
     "user_tz": 300
    },
    "id": "7g813frLN8FG",
    "outputId": "8b294726-cca5-4d21-a605-6fdf459f33fa"
   },
   "outputs": [
    {
     "data": {
      "text/html": [
       "<table class=\"simpletable\">\n",
       "<caption>Multiple Comparison of Means - Tukey HSD, FWER=0.05</caption>\n",
       "<tr>\n",
       "  <th>group1</th> <th>group2</th>  <th>meandiff</th>  <th>p-adj</th>  <th>lower</th>   <th>upper</th>  <th>reject</th>\n",
       "</tr>\n",
       "<tr>\n",
       "   <td>High</td>    <td>Low</td>     <td>-1.8</td>   <td>0.1475</td> <td>-4.1662</td> <td>0.5662</td>   <td>False</td>\n",
       "</tr>\n",
       "<tr>\n",
       "   <td>High</td>  <td>Placebo</td>   <td>-2.8</td>   <td>0.0209</td> <td>-5.1662</td> <td>-0.4338</td>  <td>True</td> \n",
       "</tr>\n",
       "<tr>\n",
       "    <td>Low</td>  <td>Placebo</td>   <td>-1.0</td>   <td>0.5163</td> <td>-3.3662</td> <td>1.3662</td>   <td>False</td>\n",
       "</tr>\n",
       "</table>"
      ],
      "text/plain": [
       "<class 'statsmodels.iolib.table.SimpleTable'>"
      ]
     },
     "execution_count": 16,
     "metadata": {},
     "output_type": "execute_result"
    },
    {
     "data": {
      "image/png": "[encoded data removed]",
      "text/plain": [
       "<Figure size 1000x600 with 1 Axes>"
      ]
     },
     "metadata": {},
     "output_type": "display_data"
    }
   ],
   "source": [
    "from statsmodels.stats.multicomp import pairwise_tukeyhsd\n",
    "\n",
    "tukey = pairwise_tukeyhsd(df_melted['value'], groups= df_melted['variable'], alpha= 0.05)\n",
    "tukey.plot_simultaneous()\n",
    "tukey.summary()"
   ]
  },
  {
   "cell_type": "markdown",
   "metadata": {
    "id": "fdEp1HHiCg3w"
   },
   "source": [
    "# Two Way Anova\n",
    "\n",
    "Two Way Anova is to be able to work with two factors, this is the difference with One Way Anova."
   ]
  },
  {
   "cell_type": "markdown",
   "metadata": {
    "id": "M8ODfpgZCwiQ"
   },
   "source": [
    "## Assumptions\n",
    "\n",
    "- Assumption of independence: the samples must be independent of each other.\n",
    "\n",
    "- Assumption of equal variance: the variances of the populations from which the samples were drawn are equal. That is, $\\sigma^2_1 = \\sigma^2_2 = \\sigma^2_3...$.\n",
    "\n",
    "- Normal population condition: The composition of the samples must be normal."
   ]
  },
  {
   "cell_type": "markdown",
   "metadata": {
    "id": "VpfYlDTaE-rh"
   },
   "source": [
    "## Hypothesis\n",
    "\n",
    "$H_0$ (Null hypothesis two way anova case) | $H_a$ (Alternative hypothesis two way anova case)\n",
    "--- | ---\n",
    "Factor A: The means of the levels of factor A are equal | At least one of the means is different from the others\n",
    "Factor B: The means of the levels of factor B are equal | At least one of the means is different from the others\n",
    "Interaction: The effect of factor A is constant through the levels of factor B | At least one of the means is different from the others"
   ]
  },
  {
   "cell_type": "markdown",
   "metadata": {
    "id": "Ka2YJ7GVG67W"
   },
   "source": [
    "## Data\n",
    "\n",
    "The following data will be from a cabbage experiment, where two factors will be used, which are:\n",
    "\n",
    "- Salinity.\n",
    "- Temperature.\n",
    "\n",
    "These factors will be used to determine the Biomass of sprouts."
   ]
  },
  {
   "cell_type": "code",
   "execution_count": 17,
   "metadata": {
    "id": "RtQ8A3LpG6Wr"
   },
   "outputs": [],
   "source": [
    "data = {'Biomass': [12.27, 12.8, 10.43, 11.8, 11.89, 10.56, 10.02, 7.5, 10.68, 7.66, 8.6, 8.57, 12.13, 12.36, 10.48, 10.72,\n",
    "                    10.64, 10, 10.62, 8.94, 9.43, 9.66, 8.99, 8.36, 8.24, 9.48, 8.61, 8.96, 8.27, 8.63, 8.49, 8.04, 7.17,\n",
    "                    7.44, 7.17, 7.06],\n",
    "        'Salinity': [0, 0, 0, 4, 4, 4, 8, 8, 8, 12, 12, 12, 0, 0, 0, 4, 4, 4, 8, 8, 8, 12, 12, 12, 0, 0, 0, 4, 4, 4, 8, 8,\n",
    "                    8, 12, 12, 12],\n",
    "        'Temperature': [36, 36, 36, 36, 36, 36, 36, 36, 36, 36, 36, 36, 34, 34, 34, 34, 34, 34, 34, 34, 34, 34, 34, 34, 32,\n",
    "                        32, 32, 32, 32, 32, 32, 32, 32, 32, 32, 32]\n",
    "}"
   ]
  },
  {
   "cell_type": "code",
   "execution_count": 18,
   "metadata": {
    "colab": {
     "base_uri": "https://localhost:8080/",
     "height": 206
    },
    "executionInfo": {
     "elapsed": 8,
     "status": "ok",
     "timestamp": 1674674052874,
     "user": {
      "displayName": "Adrian Hermoza Bayona",
      "userId": "18407196184190084623"
     },
     "user_tz": 300
    },
    "id": "khXf54ZvL4se",
    "outputId": "238b1243-bfaf-4e8b-d83b-e49b1fb8bf23"
   },
   "outputs": [
    {
     "data": {
      "text/html": [
       "<div>\n",
       "<style scoped>\n",
       "    .dataframe tbody tr th:only-of-type {\n",
       "        vertical-align: middle;\n",
       "    }\n",
       "\n",
       "    .dataframe tbody tr th {\n",
       "        vertical-align: top;\n",
       "    }\n",
       "\n",
       "    .dataframe thead th {\n",
       "        text-align: right;\n",
       "    }\n",
       "</style>\n",
       "<table border=\"1\" class=\"dataframe\">\n",
       "  <thead>\n",
       "    <tr style=\"text-align: right;\">\n",
       "      <th></th>\n",
       "      <th>Biomass</th>\n",
       "      <th>Salinity</th>\n",
       "      <th>Temperature</th>\n",
       "    </tr>\n",
       "  </thead>\n",
       "  <tbody>\n",
       "    <tr>\n",
       "      <th>0</th>\n",
       "      <td>12.27</td>\n",
       "      <td>0</td>\n",
       "      <td>36</td>\n",
       "    </tr>\n",
       "    <tr>\n",
       "      <th>1</th>\n",
       "      <td>12.80</td>\n",
       "      <td>0</td>\n",
       "      <td>36</td>\n",
       "    </tr>\n",
       "    <tr>\n",
       "      <th>2</th>\n",
       "      <td>10.43</td>\n",
       "      <td>0</td>\n",
       "      <td>36</td>\n",
       "    </tr>\n",
       "    <tr>\n",
       "      <th>3</th>\n",
       "      <td>11.80</td>\n",
       "      <td>4</td>\n",
       "      <td>36</td>\n",
       "    </tr>\n",
       "    <tr>\n",
       "      <th>4</th>\n",
       "      <td>11.89</td>\n",
       "      <td>4</td>\n",
       "      <td>36</td>\n",
       "    </tr>\n",
       "  </tbody>\n",
       "</table>\n",
       "</div>"
      ],
      "text/plain": [
       "   Biomass  Salinity  Temperature\n",
       "0    12.27         0           36\n",
       "1    12.80         0           36\n",
       "2    10.43         0           36\n",
       "3    11.80         4           36\n",
       "4    11.89         4           36"
      ]
     },
     "execution_count": 18,
     "metadata": {},
     "output_type": "execute_result"
    }
   ],
   "source": [
    "import pandas as pd\n",
    "\n",
    "sprouts_df = pd.DataFrame(data)\n",
    "sprouts_df.head()"
   ]
  },
  {
   "cell_type": "markdown",
   "metadata": {
    "id": "G8aJN3xgZNDO"
   },
   "source": [
    "## Anova Test"
   ]
  },
  {
   "cell_type": "code",
   "execution_count": 19,
   "metadata": {
    "colab": {
     "base_uri": "https://localhost:8080/",
     "height": 174
    },
    "executionInfo": {
     "elapsed": 8,
     "status": "ok",
     "timestamp": 1674674052875,
     "user": {
      "displayName": "Adrian Hermoza Bayona",
      "userId": "18407196184190084623"
     },
     "user_tz": 300
    },
    "id": "VONCndv4MSaF",
    "outputId": "c581ab22-b839-4ad2-a834-2d2a983c5aa5"
   },
   "outputs": [
    {
     "data": {
      "text/html": [
       "<div>\n",
       "<style scoped>\n",
       "    .dataframe tbody tr th:only-of-type {\n",
       "        vertical-align: middle;\n",
       "    }\n",
       "\n",
       "    .dataframe tbody tr th {\n",
       "        vertical-align: top;\n",
       "    }\n",
       "\n",
       "    .dataframe thead th {\n",
       "        text-align: right;\n",
       "    }\n",
       "</style>\n",
       "<table border=\"1\" class=\"dataframe\">\n",
       "  <thead>\n",
       "    <tr style=\"text-align: right;\">\n",
       "      <th></th>\n",
       "      <th>sum_sq</th>\n",
       "      <th>df</th>\n",
       "      <th>F</th>\n",
       "      <th>PR(&gt;F)</th>\n",
       "    </tr>\n",
       "  </thead>\n",
       "  <tbody>\n",
       "    <tr>\n",
       "      <th>C(Salinity)</th>\n",
       "      <td>36.470097</td>\n",
       "      <td>3.0</td>\n",
       "      <td>16.981002</td>\n",
       "      <td>0.000004</td>\n",
       "    </tr>\n",
       "    <tr>\n",
       "      <th>C(Temperature)</th>\n",
       "      <td>34.716772</td>\n",
       "      <td>2.0</td>\n",
       "      <td>24.246942</td>\n",
       "      <td>0.000002</td>\n",
       "    </tr>\n",
       "    <tr>\n",
       "      <th>C(Salinity):C(Temperature)</th>\n",
       "      <td>5.297161</td>\n",
       "      <td>6.0</td>\n",
       "      <td>1.233217</td>\n",
       "      <td>0.324450</td>\n",
       "    </tr>\n",
       "    <tr>\n",
       "      <th>Residual</th>\n",
       "      <td>17.181600</td>\n",
       "      <td>24.0</td>\n",
       "      <td>NaN</td>\n",
       "      <td>NaN</td>\n",
       "    </tr>\n",
       "  </tbody>\n",
       "</table>\n",
       "</div>"
      ],
      "text/plain": [
       "                               sum_sq    df          F    PR(>F)\n",
       "C(Salinity)                 36.470097   3.0  16.981002  0.000004\n",
       "C(Temperature)              34.716772   2.0  24.246942  0.000002\n",
       "C(Salinity):C(Temperature)   5.297161   6.0   1.233217  0.324450\n",
       "Residual                    17.181600  24.0        NaN       NaN"
      ]
     },
     "execution_count": 19,
     "metadata": {},
     "output_type": "execute_result"
    }
   ],
   "source": [
    "import statsmodels.api as sm\n",
    "from statsmodels.formula.api import ols\n",
    "\n",
    "model = ols('Biomass ~ C(Salinity) + C(Temperature) + C(Salinity):C(Temperature)', data= sprouts_df).fit()\n",
    "anova_model = sm.stats.anova_lm(model, typ= 2)\n",
    "anova_model"
   ]
  },
  {
   "cell_type": "markdown",
   "metadata": {
    "id": "1DHdarGNZZlr"
   },
   "source": [
    "## Tukey Test"
   ]
  },
  {
   "cell_type": "code",
   "execution_count": 20,
   "metadata": {
    "colab": {
     "base_uri": "https://localhost:8080/",
     "height": 1000
    },
    "executionInfo": {
     "elapsed": 909,
     "status": "ok",
     "timestamp": 1674674503314,
     "user": {
      "displayName": "Adrian Hermoza Bayona",
      "userId": "18407196184190084623"
     },
     "user_tz": 300
    },
    "id": "8qV08ik9S9SM",
    "outputId": "7c8aed95-8066-43c9-a1b1-10c9e869591d"
   },
   "outputs": [
    {
     "data": {
      "text/html": [
       "<table class=\"simpletable\">\n",
       "<caption>Multiple Comparison of Means - Tukey HSD, FWER=0.05</caption>\n",
       "<tr>\n",
       "  <th>group1</th>  <th>group2</th>  <th>meandiff</th>  <th>p-adj</th>  <th>lower</th>   <th>upper</th>  <th>reject</th>\n",
       "</tr>\n",
       "<tr>\n",
       "  <td>0 / 32</td>  <td>0 / 34</td>    <td>2.88</td>   <td>0.0141</td> <td>0.3891</td>  <td>5.3709</td>   <td>True</td> \n",
       "</tr>\n",
       "<tr>\n",
       "  <td>0 / 32</td>  <td>0 / 36</td>   <td>3.0567</td>  <td>0.0078</td> <td>0.5657</td>  <td>5.5476</td>   <td>True</td> \n",
       "</tr>\n",
       "<tr>\n",
       "  <td>0 / 32</td>  <td>12 / 32</td>  <td>-1.5533</td> <td>0.5341</td> <td>-4.0443</td> <td>0.9376</td>   <td>False</td>\n",
       "</tr>\n",
       "<tr>\n",
       "  <td>0 / 32</td>  <td>12 / 34</td>  <td>0.2267</td>    <td>1.0</td>  <td>-2.2643</td> <td>2.7176</td>   <td>False</td>\n",
       "</tr>\n",
       "<tr>\n",
       "  <td>0 / 32</td>  <td>12 / 36</td>   <td>-0.5</td>   <td>0.9998</td> <td>-2.9909</td> <td>1.9909</td>   <td>False</td>\n",
       "</tr>\n",
       "<tr>\n",
       "  <td>0 / 32</td>  <td>4 / 32</td>   <td>-0.1567</td>   <td>1.0</td>  <td>-2.6476</td> <td>2.3343</td>   <td>False</td>\n",
       "</tr>\n",
       "<tr>\n",
       "  <td>0 / 32</td>  <td>4 / 34</td>   <td>1.6767</td>  <td>0.4262</td> <td>-0.8143</td> <td>4.1676</td>   <td>False</td>\n",
       "</tr>\n",
       "<tr>\n",
       "  <td>0 / 32</td>  <td>4 / 36</td>    <td>2.64</td>   <td>0.0312</td> <td>0.1491</td>  <td>5.1309</td>   <td>True</td> \n",
       "</tr>\n",
       "<tr>\n",
       "  <td>0 / 32</td>  <td>8 / 32</td>   <td>-0.8767</td> <td>0.9757</td> <td>-3.3676</td> <td>1.6143</td>   <td>False</td>\n",
       "</tr>\n",
       "<tr>\n",
       "  <td>0 / 32</td>  <td>8 / 34</td>   <td>0.8867</td>  <td>0.9736</td> <td>-1.6043</td> <td>3.3776</td>   <td>False</td>\n",
       "</tr>\n",
       "<tr>\n",
       "  <td>0 / 32</td>  <td>8 / 36</td>   <td>0.6233</td>  <td>0.9984</td> <td>-1.8676</td> <td>3.1143</td>   <td>False</td>\n",
       "</tr>\n",
       "<tr>\n",
       "  <td>0 / 34</td>  <td>0 / 36</td>   <td>0.1767</td>    <td>1.0</td>  <td>-2.3143</td> <td>2.6676</td>   <td>False</td>\n",
       "</tr>\n",
       "<tr>\n",
       "  <td>0 / 34</td>  <td>12 / 32</td>  <td>-4.4333</td> <td>0.0001</td> <td>-6.9243</td> <td>-1.9424</td>  <td>True</td> \n",
       "</tr>\n",
       "<tr>\n",
       "  <td>0 / 34</td>  <td>12 / 34</td>  <td>-2.6533</td> <td>0.0298</td> <td>-5.1443</td> <td>-0.1624</td>  <td>True</td> \n",
       "</tr>\n",
       "<tr>\n",
       "  <td>0 / 34</td>  <td>12 / 36</td>   <td>-3.38</td>  <td>0.0025</td> <td>-5.8709</td> <td>-0.8891</td>  <td>True</td> \n",
       "</tr>\n",
       "<tr>\n",
       "  <td>0 / 34</td>  <td>4 / 32</td>   <td>-3.0367</td> <td>0.0083</td> <td>-5.5276</td> <td>-0.5457</td>  <td>True</td> \n",
       "</tr>\n",
       "<tr>\n",
       "  <td>0 / 34</td>  <td>4 / 34</td>   <td>-1.2033</td>  <td>0.832</td> <td>-3.6943</td> <td>1.2876</td>   <td>False</td>\n",
       "</tr>\n",
       "<tr>\n",
       "  <td>0 / 34</td>  <td>4 / 36</td>    <td>-0.24</td>    <td>1.0</td>  <td>-2.7309</td> <td>2.2509</td>   <td>False</td>\n",
       "</tr>\n",
       "<tr>\n",
       "  <td>0 / 34</td>  <td>8 / 32</td>   <td>-3.7567</td> <td>0.0007</td> <td>-6.2476</td> <td>-1.2657</td>  <td>True</td> \n",
       "</tr>\n",
       "<tr>\n",
       "  <td>0 / 34</td>  <td>8 / 34</td>   <td>-1.9933</td> <td>0.2077</td> <td>-4.4843</td> <td>0.4976</td>   <td>False</td>\n",
       "</tr>\n",
       "<tr>\n",
       "  <td>0 / 34</td>  <td>8 / 36</td>   <td>-2.2567</td> <td>0.1012</td> <td>-4.7476</td> <td>0.2343</td>   <td>False</td>\n",
       "</tr>\n",
       "<tr>\n",
       "  <td>0 / 36</td>  <td>12 / 32</td>   <td>-4.61</td>    <td>0.0</td>  <td>-7.1009</td> <td>-2.1191</td>  <td>True</td> \n",
       "</tr>\n",
       "<tr>\n",
       "  <td>0 / 36</td>  <td>12 / 34</td>   <td>-2.83</td>  <td>0.0167</td> <td>-5.3209</td> <td>-0.3391</td>  <td>True</td> \n",
       "</tr>\n",
       "<tr>\n",
       "  <td>0 / 36</td>  <td>12 / 36</td>  <td>-3.5567</td> <td>0.0014</td> <td>-6.0476</td> <td>-1.0657</td>  <td>True</td> \n",
       "</tr>\n",
       "<tr>\n",
       "  <td>0 / 36</td>  <td>4 / 32</td>   <td>-3.2133</td> <td>0.0045</td> <td>-5.7043</td> <td>-0.7224</td>  <td>True</td> \n",
       "</tr>\n",
       "<tr>\n",
       "  <td>0 / 36</td>  <td>4 / 34</td>    <td>-1.38</td>  <td>0.6908</td> <td>-3.8709</td> <td>1.1109</td>   <td>False</td>\n",
       "</tr>\n",
       "<tr>\n",
       "  <td>0 / 36</td>  <td>4 / 36</td>   <td>-0.4167</td>   <td>1.0</td>  <td>-2.9076</td> <td>2.0743</td>   <td>False</td>\n",
       "</tr>\n",
       "<tr>\n",
       "  <td>0 / 36</td>  <td>8 / 32</td>   <td>-3.9333</td> <td>0.0004</td> <td>-6.4243</td> <td>-1.4424</td>  <td>True</td> \n",
       "</tr>\n",
       "<tr>\n",
       "  <td>0 / 36</td>  <td>8 / 34</td>    <td>-2.17</td>  <td>0.1295</td> <td>-4.6609</td> <td>0.3209</td>   <td>False</td>\n",
       "</tr>\n",
       "<tr>\n",
       "  <td>0 / 36</td>  <td>8 / 36</td>   <td>-2.4333</td> <td>0.0598</td> <td>-4.9243</td> <td>0.0576</td>   <td>False</td>\n",
       "</tr>\n",
       "<tr>\n",
       "  <td>12 / 32</td> <td>12 / 34</td>   <td>1.78</td>   <td>0.3441</td> <td>-0.7109</td> <td>4.2709</td>   <td>False</td>\n",
       "</tr>\n",
       "<tr>\n",
       "  <td>12 / 32</td> <td>12 / 36</td>  <td>1.0533</td>  <td>0.9189</td> <td>-1.4376</td> <td>3.5443</td>   <td>False</td>\n",
       "</tr>\n",
       "<tr>\n",
       "  <td>12 / 32</td> <td>4 / 32</td>   <td>1.3967</td>  <td>0.6761</td> <td>-1.0943</td> <td>3.8876</td>   <td>False</td>\n",
       "</tr>\n",
       "<tr>\n",
       "  <td>12 / 32</td> <td>4 / 34</td>    <td>3.23</td>   <td>0.0043</td> <td>0.7391</td>  <td>5.7209</td>   <td>True</td> \n",
       "</tr>\n",
       "<tr>\n",
       "  <td>12 / 32</td> <td>4 / 36</td>   <td>4.1933</td>  <td>0.0001</td> <td>1.7024</td>  <td>6.6843</td>   <td>True</td> \n",
       "</tr>\n",
       "<tr>\n",
       "  <td>12 / 32</td> <td>8 / 32</td>   <td>0.6767</td>  <td>0.9968</td> <td>-1.8143</td> <td>3.1676</td>   <td>False</td>\n",
       "</tr>\n",
       "<tr>\n",
       "  <td>12 / 32</td> <td>8 / 34</td>    <td>2.44</td>   <td>0.0585</td> <td>-0.0509</td> <td>4.9309</td>   <td>False</td>\n",
       "</tr>\n",
       "<tr>\n",
       "  <td>12 / 32</td> <td>8 / 36</td>   <td>2.1767</td>  <td>0.1271</td> <td>-0.3143</td> <td>4.6676</td>   <td>False</td>\n",
       "</tr>\n",
       "<tr>\n",
       "  <td>12 / 34</td> <td>12 / 36</td>  <td>-0.7267</td> <td>0.9942</td> <td>-3.2176</td> <td>1.7643</td>   <td>False</td>\n",
       "</tr>\n",
       "<tr>\n",
       "  <td>12 / 34</td> <td>4 / 32</td>   <td>-0.3833</td>   <td>1.0</td>  <td>-2.8743</td> <td>2.1076</td>   <td>False</td>\n",
       "</tr>\n",
       "<tr>\n",
       "  <td>12 / 34</td> <td>4 / 34</td>    <td>1.45</td>   <td>0.6281</td> <td>-1.0409</td> <td>3.9409</td>   <td>False</td>\n",
       "</tr>\n",
       "<tr>\n",
       "  <td>12 / 34</td> <td>4 / 36</td>   <td>2.4133</td>  <td>0.0635</td> <td>-0.0776</td> <td>4.9043</td>   <td>False</td>\n",
       "</tr>\n",
       "<tr>\n",
       "  <td>12 / 34</td> <td>8 / 32</td>   <td>-1.1033</td>  <td>0.894</td> <td>-3.5943</td> <td>1.3876</td>   <td>False</td>\n",
       "</tr>\n",
       "<tr>\n",
       "  <td>12 / 34</td> <td>8 / 34</td>    <td>0.66</td>   <td>0.9974</td> <td>-1.8309</td> <td>3.1509</td>   <td>False</td>\n",
       "</tr>\n",
       "<tr>\n",
       "  <td>12 / 34</td> <td>8 / 36</td>   <td>0.3967</td>    <td>1.0</td>  <td>-2.0943</td> <td>2.8876</td>   <td>False</td>\n",
       "</tr>\n",
       "<tr>\n",
       "  <td>12 / 36</td> <td>4 / 32</td>   <td>0.3433</td>    <td>1.0</td>  <td>-2.1476</td> <td>2.8343</td>   <td>False</td>\n",
       "</tr>\n",
       "<tr>\n",
       "  <td>12 / 36</td> <td>4 / 34</td>   <td>2.1767</td>  <td>0.1271</td> <td>-0.3143</td> <td>4.6676</td>   <td>False</td>\n",
       "</tr>\n",
       "<tr>\n",
       "  <td>12 / 36</td> <td>4 / 36</td>    <td>3.14</td>   <td>0.0058</td> <td>0.6491</td>  <td>5.6309</td>   <td>True</td> \n",
       "</tr>\n",
       "<tr>\n",
       "  <td>12 / 36</td> <td>8 / 32</td>   <td>-0.3767</td>   <td>1.0</td>  <td>-2.8676</td> <td>2.1143</td>   <td>False</td>\n",
       "</tr>\n",
       "<tr>\n",
       "  <td>12 / 36</td> <td>8 / 34</td>   <td>1.3867</td>  <td>0.6849</td> <td>-1.1043</td> <td>3.8776</td>   <td>False</td>\n",
       "</tr>\n",
       "<tr>\n",
       "  <td>12 / 36</td> <td>8 / 36</td>   <td>1.1233</td>  <td>0.8828</td> <td>-1.3676</td> <td>3.6143</td>   <td>False</td>\n",
       "</tr>\n",
       "<tr>\n",
       "  <td>4 / 32</td>  <td>4 / 34</td>   <td>1.8333</td>  <td>0.3056</td> <td>-0.6576</td> <td>4.3243</td>   <td>False</td>\n",
       "</tr>\n",
       "<tr>\n",
       "  <td>4 / 32</td>  <td>4 / 36</td>   <td>2.7967</td>  <td>0.0187</td> <td>0.3057</td>  <td>5.2876</td>   <td>True</td> \n",
       "</tr>\n",
       "<tr>\n",
       "  <td>4 / 32</td>  <td>8 / 32</td>    <td>-0.72</td>  <td>0.9946</td> <td>-3.2109</td> <td>1.7709</td>   <td>False</td>\n",
       "</tr>\n",
       "<tr>\n",
       "  <td>4 / 32</td>  <td>8 / 34</td>   <td>1.0433</td>  <td>0.9234</td> <td>-1.4476</td> <td>3.5343</td>   <td>False</td>\n",
       "</tr>\n",
       "<tr>\n",
       "  <td>4 / 32</td>  <td>8 / 36</td>    <td>0.78</td>   <td>0.9898</td> <td>-1.7109</td> <td>3.2709</td>   <td>False</td>\n",
       "</tr>\n",
       "<tr>\n",
       "  <td>4 / 34</td>  <td>4 / 36</td>   <td>0.9633</td>  <td>0.9536</td> <td>-1.5276</td> <td>3.4543</td>   <td>False</td>\n",
       "</tr>\n",
       "<tr>\n",
       "  <td>4 / 34</td>  <td>8 / 32</td>   <td>-2.5533</td> <td>0.0411</td> <td>-5.0443</td> <td>-0.0624</td>  <td>True</td> \n",
       "</tr>\n",
       "<tr>\n",
       "  <td>4 / 34</td>  <td>8 / 34</td>    <td>-0.79</td>  <td>0.9888</td> <td>-3.2809</td> <td>1.7009</td>   <td>False</td>\n",
       "</tr>\n",
       "<tr>\n",
       "  <td>4 / 34</td>  <td>8 / 36</td>   <td>-1.0533</td> <td>0.9189</td> <td>-3.5443</td> <td>1.4376</td>   <td>False</td>\n",
       "</tr>\n",
       "<tr>\n",
       "  <td>4 / 36</td>  <td>8 / 32</td>   <td>-3.5167</td> <td>0.0016</td> <td>-6.0076</td> <td>-1.0257</td>  <td>True</td> \n",
       "</tr>\n",
       "<tr>\n",
       "  <td>4 / 36</td>  <td>8 / 34</td>   <td>-1.7533</td> <td>0.3643</td> <td>-4.2443</td> <td>0.7376</td>   <td>False</td>\n",
       "</tr>\n",
       "<tr>\n",
       "  <td>4 / 36</td>  <td>8 / 36</td>   <td>-2.0167</td> <td>0.1956</td> <td>-4.5076</td> <td>0.4743</td>   <td>False</td>\n",
       "</tr>\n",
       "<tr>\n",
       "  <td>8 / 32</td>  <td>8 / 34</td>   <td>1.7633</td>  <td>0.3567</td> <td>-0.7276</td> <td>4.2543</td>   <td>False</td>\n",
       "</tr>\n",
       "<tr>\n",
       "  <td>8 / 32</td>  <td>8 / 36</td>     <td>1.5</td>   <td>0.5826</td> <td>-0.9909</td> <td>3.9909</td>   <td>False</td>\n",
       "</tr>\n",
       "<tr>\n",
       "  <td>8 / 34</td>  <td>8 / 36</td>   <td>-0.2633</td>   <td>1.0</td>  <td>-2.7543</td> <td>2.2276</td>   <td>False</td>\n",
       "</tr>\n",
       "</table>"
      ],
      "text/plain": [
       "<class 'statsmodels.iolib.table.SimpleTable'>"
      ]
     },
     "execution_count": 20,
     "metadata": {},
     "output_type": "execute_result"
    },
    {
     "data": {
      "image/png": "[encoded data removed]",
      "text/plain": [
       "<Figure size 1000x600 with 1 Axes>"
      ]
     },
     "metadata": {},
     "output_type": "display_data"
    }
   ],
   "source": [
    "from statsmodels.stats.multicomp import pairwise_tukeyhsd\n",
    "\n",
    "# First you have to convert the data to str\n",
    "sprouts_df = sprouts_df.astype({'Temperature': 'str'})\n",
    "\n",
    "sprouts_df = sprouts_df.astype({'Salinity': 'str'})\n",
    "\n",
    "# It is necessary to join the factors in a single column putting the symbol / in the middle\n",
    "sprouts_df['Combination'] = sprouts_df['Salinity'] + \" / \" + sprouts_df['Temperature']\n",
    "\n",
    "tukey = pairwise_tukeyhsd(sprouts_df['Biomass'], groups= sprouts_df['Combination'], alpha= 0.05)\n",
    "tukey.plot_simultaneous()\n",
    "tukey.summary()"
   ]
  },
  {
   "cell_type": "markdown",
   "metadata": {
    "id": "3E9oKIIKQIzc"
   },
   "source": [
    "# Note about anova in statmodels\n",
    "\n",
    "Within the \"ols\" method, you must use a formula which is very similar to the R version, where you have:\n",
    "\n",
    "One Way Anova | Two Way Anova\n",
    "--- | ---\n",
    "Result ~ Factor | Result ~ C($Factor_1$) + C($Factor_2$) + C($Factor_1$) : C($Factor_2$)\n",
    "\n",
    "Here there is a small difference compared to R for Two Way Anova, where it is:\n",
    "\n",
    "Result ~ $Factor_1$ * $Factor_2$"
   ]
  }
 ],
 "metadata": {
  "colab": {
   "authorship_tag": "ABX9TyNx6SM8Tp+ajsL1w6NZ2UfC",
   "provenance": [],
   "toc_visible": true
  },
  "kernelspec": {
   "display_name": "Python 3 (ipykernel)",
   "language": "python",
   "name": "python3"
  },
  "language_info": {
   "codemirror_mode": {
    "name": "ipython",
    "version": 3
   },
   "file_extension": ".py",
   "mimetype": "text/x-python",
   "name": "python",
   "nbconvert_exporter": "python",
   "pygments_lexer": "ipython3",
   "version": "3.9.13"
  }
 },
 "nbformat": 4,
 "nbformat_minor": 1
}
