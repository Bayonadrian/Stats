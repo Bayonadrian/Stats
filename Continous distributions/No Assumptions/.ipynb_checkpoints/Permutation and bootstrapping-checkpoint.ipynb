{
 "cells": [
  {
   "cell_type": "markdown",
   "metadata": {
    "id": "yoqA-RULABb8"
   },
   "source": [
    "# Permutations\n",
    "Permutations occur when there is a suspicion as to whether two samples are the same or not. This technique is based on generating a distribution of the differences of the means of the original data.\n",
    "\n",
    "As an example we can imagine that in the United States elections there are two states debating for the Democratic party, so we have Pennsylvania and Ohio and we want to know if on average these two states have a different average number of voters who want to vote for the party democratic or really average are similar.\n",
    "\n",
    "All this assuming that there is an average of 2 members per family in Pennsylvania and 2 members per family in Ohio who want to vote for the Democratic party."
   ]
  },
  {
   "cell_type": "code",
   "execution_count": null,
   "metadata": {
    "colab": {
     "base_uri": "https://localhost:8080/",
     "height": 265
    },
    "executionInfo": {
     "elapsed": 949,
     "status": "ok",
     "timestamp": 1670952709413,
     "user": {
      "displayName": "Adrian Hermoza Bayona",
      "userId": "18407196184190084623"
     },
     "user_tz": 300
    },
    "id": "V7SvhBi1_rlh",
    "outputId": "ed5fe63a-d869-4a83-cb7e-16f7ddf94a1a"
   },
   "outputs": [
    {
     "data": {
      "image/png": "[encoded data removed]",
      "text/plain": [
       "<Figure size 432x288 with 2 Axes>"
      ]
     },
     "metadata": {
      "needs_background": "light"
     },
     "output_type": "display_data"
    }
   ],
   "source": [
    "import numpy as np\n",
    "import matplotlib.pyplot as plt\n",
    "\n",
    "# To avoid constant randomness, add a seed.\n",
    "np.random.seed(20)\n",
    "\n",
    "pen_mean = 2\n",
    "pen_sd = 2\n",
    "\n",
    "oh_mean = 2\n",
    "oh_sd = 1\n",
    "\n",
    "pen = np.random.normal(pen_mean, pen_sd, size=2000)\n",
    "oh = np.random.normal(oh_mean, oh_sd, size=1500)\n",
    "\n",
    "fig, (ax1, ax2) = plt.subplots(1, 2)\n",
    "\n",
    "ax1.hist(pen, rwidth=0.9)\n",
    "ax2.hist(oh, rwidth=0.9)\n",
    "\n",
    "plt.show()"
   ]
  },
  {
   "cell_type": "markdown",
   "metadata": {
    "id": "S_R8_5v4wwL8"
   },
   "source": [
    "## Steps for a permutation\n",
    "\n",
    "- Choose a test statistic that measures the effect we are looking for between the two data sets (this step is common with bootstrap tests). Typically, this is a difference between a \"base\" statistic (usually the mean but can also be the standard deviation, median, etc.) for each data set.\n",
    "- Construct the sampling distribution that this test statistic would have if the effect were NOT present (this is the distinctive core of permutation tests).\n",
    "- Locate the observed (empirical) test statistic value in this hypothesized distribution. A value in the main body of the distribution could easily occur by chance. A value in a queue would rarely occur by chance, which would be evidence that something other than chance is operating (this is common with bootstrap)."
   ]
  },
  {
   "cell_type": "markdown",
   "metadata": {
    "id": "S_WRY3QTlCFS"
   },
   "source": [
    "## Permutation Replicate\n",
    "\n",
    "This is where it is possible to mix both samples and redistribute them randomly to build different samples so that we can know if the samples are different or not, this is what is known as permutation replicate, it does not matter if the size of the samples is same or not"
   ]
  },
  {
   "cell_type": "code",
   "execution_count": null,
   "metadata": {
    "colab": {
     "base_uri": "https://localhost:8080/"
    },
    "executionInfo": {
     "elapsed": 22,
     "status": "ok",
     "timestamp": 1670952709414,
     "user": {
      "displayName": "Adrian Hermoza Bayona",
      "userId": "18407196184190084623"
     },
     "user_tz": 300
    },
    "id": "_iiIdVGiAO4u",
    "outputId": "315bee87-9662-40aa-8bca-596c52333047"
   },
   "outputs": [
    {
     "data": {
      "text/plain": [
       "(2000, 1500)"
      ]
     },
     "execution_count": 2,
     "metadata": {},
     "output_type": "execute_result"
    }
   ],
   "source": [
    "import numpy as np\n",
    "\n",
    "def permutation_replicate(sample1, sample2):\n",
    "\n",
    "  total = []\n",
    "\n",
    "  for s1 in sample1:\n",
    "\n",
    "    total.append(s1)\n",
    "\n",
    "  for s2 in sample2:\n",
    "\n",
    "    total.append(s2)\n",
    "\n",
    "  np.random.shuffle(total)\n",
    "\n",
    "  s1 = total[:len(sample1)]\n",
    "  s2 = total[len(sample1):]\n",
    "\n",
    "  return s1, s2\n",
    "\n",
    "sample1, sample2 = permutation_replicate(pen, oh)\n",
    "len(sample1), len(sample2)"
   ]
  },
  {
   "cell_type": "markdown",
   "metadata": {
    "id": "hFpFD3G_lmN3"
   },
   "source": [
    "## Permutation\n",
    "\n",
    "Once the replicated permutations are available, it is possible to generate a distribution based on the differences of the sample means, this is what is known as permutation. **It is important to know that this is where you start with the first step choosing the statistic, in this case we will choose the mean, also here we also build the sample distribution**."
   ]
  },
  {
   "cell_type": "code",
   "execution_count": null,
   "metadata": {
    "colab": {
     "base_uri": "https://localhost:8080/",
     "height": 265
    },
    "executionInfo": {
     "elapsed": 22629,
     "status": "ok",
     "timestamp": 1670952732026,
     "user": {
      "displayName": "Adrian Hermoza Bayona",
      "userId": "18407196184190084623"
     },
     "user_tz": 300
    },
    "id": "WfbLG1fMAVEN",
    "outputId": "d60d2186-cdb5-4214-8a3f-7e430649c6e3"
   },
   "outputs": [
    {
     "data": {
      "image/png": "[encoded data removed]",
      "text/plain": [
       "<Figure size 432x288 with 1 Axes>"
      ]
     },
     "metadata": {
      "needs_background": "light"
     },
     "output_type": "display_data"
    }
   ],
   "source": [
    "Size = 10000 \n",
    "\n",
    "def permutation(size, samp1, samp2):\n",
    "  \n",
    "  permutation = []\n",
    "\n",
    "  for _ in range(size):\n",
    "\n",
    "    sample1, sample2 = permutation_replicate(samp1, samp2)\n",
    "\n",
    "# Defining the mean as a statistic.\n",
    "\n",
    "    permutation.append(np.mean(sample1) - np.mean(sample2))\n",
    "\n",
    "  return np.array(permutation)\n",
    "\n",
    "plt.hist(permutation(Size, pen, oh), rwidth=0.9)\n",
    "plt.show()"
   ]
  },
  {
   "cell_type": "markdown",
   "metadata": {
    "id": "BPY3SQ6lAhbv"
   },
   "source": [
    "## Confidence intervals\n",
    "\n",
    "There are two ways to find confidence intervals, one is through the normal distribution and the other is through quantiles."
   ]
  },
  {
   "cell_type": "markdown",
   "metadata": {
    "id": "2jhwSKJZyzJd"
   },
   "source": [
    "### Permutation to locate confidence intervals\n",
    "In order to locate the confidence intervals it is necessary to generate a permuted distribution."
   ]
  },
  {
   "cell_type": "code",
   "execution_count": null,
   "metadata": {
    "id": "jl1M4bHXy1iF"
   },
   "outputs": [],
   "source": [
    "permutation_dist = permutation(1000, pen, oh)"
   ]
  },
  {
   "cell_type": "code",
   "execution_count": null,
   "metadata": {
    "colab": {
     "base_uri": "https://localhost:8080/"
    },
    "executionInfo": {
     "elapsed": 7,
     "status": "ok",
     "timestamp": 1670952734070,
     "user": {
      "displayName": "Adrian Hermoza Bayona",
      "userId": "18407196184190084623"
     },
     "user_tz": 300
    },
    "id": "Am_V2k7hAmc4",
    "outputId": "6a511650-8002-4bdd-9200-fe9e995f392d"
   },
   "outputs": [
    {
     "data": {
      "text/plain": [
       "(-0.11286297748271604, 0.1144634974481301)"
      ]
     },
     "execution_count": 5,
     "metadata": {},
     "output_type": "execute_result"
    }
   ],
   "source": [
    "# 95% confidence interval with quantiles (two tails)\n",
    "\n",
    "higher = np.quantile(permutation_dist, 0.975)\n",
    "lower = np.quantile(permutation_dist, 0.025)\n",
    "lower, higher"
   ]
  },
  {
   "cell_type": "code",
   "execution_count": null,
   "metadata": {
    "colab": {
     "base_uri": "https://localhost:8080/"
    },
    "executionInfo": {
     "elapsed": 1232,
     "status": "ok",
     "timestamp": 1670952735296,
     "user": {
      "displayName": "Adrian Hermoza Bayona",
      "userId": "18407196184190084623"
     },
     "user_tz": 300
    },
    "id": "Ye-X6MdVAjUA",
    "outputId": "f6fe2f81-3e71-4614-d9e0-9200ef398d85"
   },
   "outputs": [
    {
     "data": {
      "text/plain": [
       "(-0.11252182789640747, 0.11048954941870576)"
      ]
     },
     "execution_count": 6,
     "metadata": {},
     "output_type": "execute_result"
    }
   ],
   "source": [
    "# 95% confidence interval with scipy intervals\n",
    "\n",
    "import scipy.stats as st\n",
    "\n",
    "m = np.mean(permutation_dist)\n",
    "sd = np.std(permutation_dist)\n",
    "\n",
    "normal = st.norm(m, sd)\n",
    "normal.interval(0.95)"
   ]
  },
  {
   "cell_type": "markdown",
   "metadata": {
    "id": "spStu7KpmUUl"
   },
   "source": [
    "## Hypothesis tests\n",
    "The hypothesis tests in this case are only given in one way and it is for two samples and using two tails. So the hypotheses are formulated as follows:\n",
    "\n",
    "|Null hypothesis($H_0$)|Alternate hypothesis($H_a$)|\n",
    "|---|---|\n",
    "|$H_0: p \\ne 0$|$H_a: p = 0$|\n",
    "\n",
    "It is in this way since what you want to prove is the difference."
   ]
  },
  {
   "cell_type": "markdown",
   "metadata": {
    "id": "0ZjO6Pxqnsax"
   },
   "source": [
    "### Empirical difference\n",
    "The empirical difference is the actual difference of the samples. Something important is that here we already did the first step since we defined the mean tanot in the permuted distribution as in the empirical difference."
   ]
  },
  {
   "cell_type": "code",
   "execution_count": null,
   "metadata": {
    "id": "rQaFQ4B4oRBm"
   },
   "outputs": [],
   "source": [
    "empirical_diff = np.mean(pen) - np.mean(oh)"
   ]
  },
  {
   "cell_type": "markdown",
   "metadata": {
    "id": "_UltQPILyIyv"
   },
   "source": [
    "### Building distribution"
   ]
  },
  {
   "cell_type": "code",
   "execution_count": null,
   "metadata": {
    "id": "wTGfgvY7yLNf"
   },
   "outputs": [],
   "source": [
    "permutation_dist = permutation(1000, pen, oh)"
   ]
  },
  {
   "cell_type": "markdown",
   "metadata": {
    "id": "RO7tznZ_oTuP"
   },
   "source": [
    "### p-value\n",
    "\n",
    "Now we can obtain the p value to be able to do hypothesis tests, **this is the last step where we locate a very unusual statistic in the distribution, in this case we will choose 95%**."
   ]
  },
  {
   "cell_type": "code",
   "execution_count": null,
   "metadata": {
    "colab": {
     "base_uri": "https://localhost:8080/"
    },
    "executionInfo": {
     "elapsed": 7,
     "status": "ok",
     "timestamp": 1670952736405,
     "user": {
      "displayName": "Adrian Hermoza Bayona",
      "userId": "18407196184190084623"
     },
     "user_tz": 300
    },
    "id": "oy9q-4OEAZil",
    "outputId": "e2e38b55-90b2-4e5d-d1f6-3f3b914983de"
   },
   "outputs": [
    {
     "name": "stdout",
     "output_type": "stream",
     "text": [
      "p: 0.295\n"
     ]
    }
   ],
   "source": [
    "p = np.sum(permutation_dist >= abs(empirical_diff)) / len(permutation_dist)\n",
    "\n",
    "print('p:', p)"
   ]
  },
  {
   "cell_type": "markdown",
   "metadata": {
    "id": "kQ4rMmGqoqxK"
   },
   "source": [
    "Here we got a p-value of 29.5% so if we used a 95% confidence interval we would fail to reject the null hypothesis."
   ]
  },
  {
   "cell_type": "markdown",
   "metadata": {
    "id": "t247CrEQo6jU"
   },
   "source": [
    "### Graphic form\n",
    "\n",
    "\n",
    "In this case it is possible to observe that the proportion of the real distribution in contrast to the new distribution is 29.5%."
   ]
  },
  {
   "cell_type": "code",
   "execution_count": null,
   "metadata": {
    "colab": {
     "base_uri": "https://localhost:8080/",
     "height": 265
    },
    "executionInfo": {
     "elapsed": 7958,
     "status": "ok",
     "timestamp": 1670952744360,
     "user": {
      "displayName": "Adrian Hermoza Bayona",
      "userId": "18407196184190084623"
     },
     "user_tz": 300
    },
    "id": "PTdFxYppAbZG",
    "outputId": "51258719-224b-4e13-9102-702b70d0f5eb"
   },
   "outputs": [
    {
     "data": {
      "image/png": "[encoded data removed]",
      "text/plain": [
       "<Figure size 432x288 with 1 Axes>"
      ]
     },
     "metadata": {
      "needs_background": "light"
     },
     "output_type": "display_data"
    }
   ],
   "source": [
    "plt.hist(permutation(Size, pen, oh), rwidth=0.9)\n",
    "plt.axvline(empirical_diff, color='r', ls='--')\n",
    "plt.show()"
   ]
  },
  {
   "cell_type": "markdown",
   "metadata": {
    "id": "yeAOIILkBBCU"
   },
   "source": [
    "# bootstrapping\n",
    "\n",
    "Bootstrapping is the use of a technique called **resampling**, which involves taking samples from an existing sample randomly but with replacement, this to obtain a statistical inference by creating a theoretical population to perform this, bootstrapping works in a similar way to that of the **central limit theorem** and **simple sampling** but with a difference:\n",
    "\n",
    "|Sampling|Bootstrapping|\n",
    "|---|---|\n",
    "|Goes from a population to a small sample|Builds a theoretical population from a sample|\n",
    "\n",
    "In addition, there are some steps to follow to bootstrapping:\n",
    "\n",
    "* Make a sample with replacement the same size as the original sample (the most important thing here is sampling with replacement which makes each sample different to build the model with bootstrapping).\n",
    "* Calculate the statistic of interest for bootstrapping (mean is most common, but we can use median, standard deviation, or other statistics instead)\n",
    "* Repeat steps one and two many times to get the distribution.\n",
    "\n",
    "It is possible to use bootstrapping to convert a sample with an **x** or any distribution into a normal distribution, in this way there are also other ways of generating random samples, as well as permutations."
   ]
  },
  {
   "cell_type": "markdown",
   "metadata": {
    "id": "uCCCdicZsveO"
   },
   "source": [
    "## Creating a uniform distribution for bootstrapping\n",
    "\n",
    "Something important about both bootstrapping and permutations is that both do not have any conditions as well as the normality of the data so that we can start from a uniform distribution."
   ]
  },
  {
   "cell_type": "code",
   "execution_count": null,
   "metadata": {
    "colab": {
     "base_uri": "https://localhost:8080/",
     "height": 265
    },
    "executionInfo": {
     "elapsed": 291,
     "status": "ok",
     "timestamp": 1670952744633,
     "user": {
      "displayName": "Adrian Hermoza Bayona",
      "userId": "18407196184190084623"
     },
     "user_tz": 300
    },
    "id": "AjuFjljtBE9k",
    "outputId": "a0001f02-afe9-4139-a5d7-40c41ffb4e6c"
   },
   "outputs": [
    {
     "data": {
      "image/png": "[encoded data removed]",
      "text/plain": [
       "<Figure size 432x288 with 1 Axes>"
      ]
     },
     "metadata": {
      "needs_background": "light"
     },
     "output_type": "display_data"
    }
   ],
   "source": [
    "import numpy as np\n",
    "import matplotlib.pyplot as plt\n",
    "\n",
    "sample_size = 8000\n",
    "\n",
    "uniformD = np.random.uniform(low= 5, high= 10, size= sample_size)\n",
    "\n",
    "plt.hist(uniformD, rwidth= 0.9)\n",
    "plt.show()"
   ]
  },
  {
   "cell_type": "markdown",
   "metadata": {
    "id": "Fpy9LvRzsnb3"
   },
   "source": [
    "## Creating a distribution with bootstrapping\n",
    "\n",
    "In this case we are going to generate a bootstrapped distribution using the mean as the statistic of interest."
   ]
  },
  {
   "cell_type": "code",
   "execution_count": null,
   "metadata": {
    "colab": {
     "base_uri": "https://localhost:8080/",
     "height": 269
    },
    "executionInfo": {
     "elapsed": 614,
     "status": "ok",
     "timestamp": 1670952745241,
     "user": {
      "displayName": "Adrian Hermoza Bayona",
      "userId": "18407196184190084623"
     },
     "user_tz": 300
    },
    "id": "aZt6D78jBJJl",
    "outputId": "7f49f40f-d815-4c06-d17e-19343ef30403"
   },
   "outputs": [
    {
     "data": {
      "image/png": "[encoded data removed]",
      "text/plain": [
       "<Figure size 432x288 with 1 Axes>"
      ]
     },
     "metadata": {
      "needs_background": "light"
     },
     "output_type": "display_data"
    }
   ],
   "source": [
    "\n",
    "bootstrap_dist = []\n",
    "\n",
    "for i in range(4000):\n",
    "\n",
    "  bootstrap_dist.append(np.mean(np.random.choice(uniformD, size= sample_size, replace=True)))\n",
    "\n",
    "plt.hist(bootstrap_dist, rwidth=0.9)\n",
    "plt.show()"
   ]
  },
  {
   "cell_type": "markdown",
   "metadata": {
    "id": "DZOlBKO_u8as"
   },
   "source": [
    "## Normality test\n",
    "We can use a normality test to determine if the new distribution is normal or not, in this case the Shaphiro Wilks test in which there is a p value of 56.2%, which indicates that under a confidence level of 95 % the distribution is normal since it is possible to fail to reject the null hypothesis."
   ]
  },
  {
   "cell_type": "code",
   "execution_count": null,
   "metadata": {
    "colab": {
     "base_uri": "https://localhost:8080/"
    },
    "executionInfo": {
     "elapsed": 16,
     "status": "ok",
     "timestamp": 1670952745242,
     "user": {
      "displayName": "Adrian Hermoza Bayona",
      "userId": "18407196184190084623"
     },
     "user_tz": 300
    },
    "id": "Y1wNybz2uiMY",
    "outputId": "4c93845a-5e06-4ed0-fdf2-b0c97815c0f3"
   },
   "outputs": [
    {
     "data": {
      "text/plain": [
       "ShapiroResult(statistic=0.9994852542877197, pvalue=0.3642295002937317)"
      ]
     },
     "execution_count": 13,
     "metadata": {},
     "output_type": "execute_result"
    }
   ],
   "source": [
    "st.shapiro(bootstrap_dist)"
   ]
  },
  {
   "cell_type": "markdown",
   "metadata": {
    "id": "s_757oU9BR--"
   },
   "source": [
    "## Confidence intervals\n",
    "When using bootstrapping, the confidence intervals assure us a probability of finding the most common value in our initial sample or, in other words, the mean (if the mean is used) of the sample that was used for this process.\n",
    "\n",
    "There are two ways to define confidence intervals, one is using quantiles and the other is with scipy intervals."
   ]
  },
  {
   "cell_type": "markdown",
   "metadata": {
    "id": "7Ew8NjMExEBG"
   },
   "source": [
    "### Why bootstrapping for confidence intervals\n",
    "\n",
    "- Bootstrapping is, first of all, a practical way to find the sampling distribution, at least approximately, from a single sample, rather than drawing multiple random samples from a population.\n",
    "\n",
    "- Simulates the drawing of multiple random samples using only one sample from a population, so it relies heavily on this single sample being as random as possible.\n",
    "\n",
    "- The Bootstrap test does not impose the normality restriction on the distribution of the population(s) from which the real sample(s) is(are) drawn, unlike the traditional t-test."
   ]
  },
  {
   "cell_type": "markdown",
   "metadata": {
    "id": "0NJSUWgAvwVy"
   },
   "source": [
    "### 95% confidence interval with quantiles (two tails)"
   ]
  },
  {
   "cell_type": "code",
   "execution_count": null,
   "metadata": {
    "colab": {
     "base_uri": "https://localhost:8080/"
    },
    "executionInfo": {
     "elapsed": 14,
     "status": "ok",
     "timestamp": 1670952745243,
     "user": {
      "displayName": "Adrian Hermoza Bayona",
      "userId": "18407196184190084623"
     },
     "user_tz": 300
    },
    "id": "p-7PLde2BWcn",
    "outputId": "5559554c-5770-4835-dfca-b0b7ee14df20"
   },
   "outputs": [
    {
     "data": {
      "text/plain": [
       "(7.492769273036164, 7.5561061626583115)"
      ]
     },
     "execution_count": 14,
     "metadata": {},
     "output_type": "execute_result"
    }
   ],
   "source": [
    "lower= np.quantile(bootstrap_dist, 0.025)\n",
    "higher= np.quantile(bootstrap_dist, 0.975)\n",
    "\n",
    "lower, higher"
   ]
  },
  {
   "cell_type": "markdown",
   "metadata": {
    "id": "a2dms1Qov9Aa"
   },
   "source": [
    "### 95% confidence interval with scipy intervals"
   ]
  },
  {
   "cell_type": "code",
   "execution_count": 1,
   "metadata": {
    "colab": {
     "base_uri": "https://localhost:8080/"
    },
    "executionInfo": {
     "elapsed": 10,
     "status": "ok",
     "timestamp": 1670952745243,
     "user": {
      "displayName": "Adrian Hermoza Bayona",
      "userId": "18407196184190084623"
     },
     "user_tz": 300
    },
    "id": "aNf1oHOdBY3g",
    "outputId": "fea5a9a2-ffb8-40f8-d144-ad88012a0c67"
   },
   "outputs": [
    {
     "ename": "NameError",
     "evalue": "name 'np' is not defined",
     "output_type": "error",
     "traceback": [
      "\u001b[1;31m---------------------------------------------------------------------------\u001b[0m",
      "\u001b[1;31mNameError\u001b[0m                                 Traceback (most recent call last)",
      "\u001b[1;32m~\\AppData\\Local\\Temp\\ipykernel_25616\\1194207021.py\u001b[0m in \u001b[0;36m<module>\u001b[1;34m\u001b[0m\n\u001b[1;32m----> 1\u001b[1;33m \u001b[0mmean\u001b[0m \u001b[1;33m=\u001b[0m \u001b[0mnp\u001b[0m\u001b[1;33m.\u001b[0m\u001b[0mmean\u001b[0m\u001b[1;33m(\u001b[0m\u001b[0mbootstrap_dist\u001b[0m\u001b[1;33m)\u001b[0m\u001b[1;33m\u001b[0m\u001b[1;33m\u001b[0m\u001b[0m\n\u001b[0m\u001b[0;32m      2\u001b[0m \u001b[0mstdev\u001b[0m \u001b[1;33m=\u001b[0m \u001b[0mnp\u001b[0m\u001b[1;33m.\u001b[0m\u001b[0mstd\u001b[0m\u001b[1;33m(\u001b[0m\u001b[0mbootstrap_dist\u001b[0m\u001b[1;33m)\u001b[0m\u001b[1;33m\u001b[0m\u001b[1;33m\u001b[0m\u001b[0m\n\u001b[0;32m      3\u001b[0m \u001b[1;33m\u001b[0m\u001b[0m\n\u001b[0;32m      4\u001b[0m \u001b[0mnormal\u001b[0m \u001b[1;33m=\u001b[0m \u001b[0mst\u001b[0m\u001b[1;33m.\u001b[0m\u001b[0mnorm\u001b[0m\u001b[1;33m(\u001b[0m\u001b[0mmean\u001b[0m\u001b[1;33m,\u001b[0m \u001b[0mstdev\u001b[0m\u001b[1;33m)\u001b[0m\u001b[1;33m\u001b[0m\u001b[1;33m\u001b[0m\u001b[0m\n\u001b[0;32m      5\u001b[0m \u001b[1;33m\u001b[0m\u001b[0m\n",
      "\u001b[1;31mNameError\u001b[0m: name 'np' is not defined"
     ]
    }
   ],
   "source": [
    "mean = np.mean(bootstrap_dist)\n",
    "stdev = np.std(bootstrap_dist)\n",
    "\n",
    "normal = st.norm(mean, stdev)\n",
    "\n",
    "# The sample mean falls within this interval.\n",
    "normal.interval(0.95)"
   ]
  },
  {
   "cell_type": "markdown",
   "metadata": {
    "id": "yleWYvkS1Ynr"
   },
   "source": [
    "## Hypothesis tests\n",
    "Bootstrapping has some variations for hypothesis testing but the logic behind it is to create a hypothetical distribution that perfectly meets the null hypothesis($H_0$)."
   ]
  },
  {
   "cell_type": "markdown",
   "metadata": {
    "id": "_KElgZukD91g"
   },
   "source": [
    "### Hypothesis tests with a sample\n",
    "\n",
    "We can perform hypothesis tests with a single sample, for this the traditional method (normal or t-student) is unified with the bootstrapping method (the generation of a hypothetical distribution having simulating the null hypothesis ($H_0$)).\n",
    "\n",
    "For this it is necessary to remember how hypothesis tests are carried out in a conventional way. **It is important to mention that for this we are going to use the average as a statistic**"
   ]
  },
  {
   "cell_type": "markdown",
   "metadata": {
    "id": "jM3v2FE5GQJc"
   },
   "source": [
    "#### Steps\n",
    "\n",
    "1. Establish the null and alternate hypotheses, for this we can follow the following criteria:\n",
    "\n",
    "|Hypothesis|Two tails(different)|One positive tail(major)|One negative tail(minor)|\n",
    "|---|---|---|--|\n",
    "|$H_0$|$H_0: \\mu= \\mu_0$|$H_0: \\mu= \\mu_0$|$H_0: \\mu= \\mu_0$|\n",
    "|$H_a$|$H_a: \\mu \\ne \\mu_0$|$H_a: \\mu > \\mu_0$|$H_a: \\mu < \\mu_0$|\n",
    "\n",
    "Where:\n",
    "\n",
    "- $H_0$, is the null hypothesis.\n",
    "- $H_a$, is the alternate hypothesis.\n",
    "- $\\mu$, is the sample mean.\n",
    "- $\\mu_0$, is the population mean.\n",
    "\n",
    "2. Create the distribution with bootstrapping.\n",
    "3. Mold the new distribution to the null hypothesis.\n",
    "4. Compare distributions.\n",
    "5. Make a decision."
   ]
  },
  {
   "cell_type": "markdown",
   "metadata": {
    "id": "7syJiigcHGqr"
   },
   "source": [
    "#### Data\n",
    "Here we will choose the data to carry out the tests, this data is from the elections in the United States, we are going to assume that in the year 2010 the average number of voters in the state of Pennsylvania who voted for the Democratic party was 70%, years Later, in the next elections, the following data was obtained:\n",
    "\n",
    "```\n",
    "PA = [60.08, 40.64, 36.07, 41.21, 31.04, 43.78,\n",
    "                 44.08, 46.85, 44.71, 46.15, 63.10, 52.20,\n",
    "                 43.18, 40.24, 39.92, 47.87, 37.77, 40.11,\n",
    "                 49.85, 48.61, 38.62, 54.25, 34.84, 47.75,\n",
    "                 43.82, 55.97, 58.23, 42.97, 42.38, 36.11,\n",
    "                 37.53, 42.65, 50.96, 47.43, 56.24, 45.60,\n",
    "                 46.39, 35.22, 48.56, 32.97, 57.88, 36.05,\n",
    "                 37.72, 50.36, 32.12, 41.55, 54.66, 57.81,\n",
    "                 54.58, 32.88, 54.37, 40.45, 47.61, 60.49,\n",
    "                 43.11, 27.32, 44.03, 33.56, 37.26, 54.64,\n",
    "                 43.12, 25.34, 49.79, 83.56, 40.09, 60.81,\n",
    "                 49.81]\n",
    "```\n",
    "\n",
    "So you want to know if this sample is different from the population of the last election."
   ]
  },
  {
   "cell_type": "code",
   "execution_count": null,
   "metadata": {
    "id": "BrOXemiaI0oa"
   },
   "outputs": [],
   "source": [
    "pa = [60.08, 40.64, 36.07, 41.21, 31.04, 43.78, \n",
    "                44.08, 46.85, 44.71, 46.15, 63.10, 52.20, \n",
    "                43.18, 40.24, 39.92, 47.87, 37.77, 40.11, \n",
    "                49.85, 48.61, 38.62, 54.25, 34.84, 47.75, \n",
    "                43.82, 55.97, 58.23, 42.97, 42.38, 36.11, \n",
    "                37.53, 42.65, 50.96, 47.43, 56.24, 45.60, \n",
    "                46.39, 35.22, 48.56, 32.97, 57.88, 36.05, \n",
    "                37.72, 50.36, 32.12, 41.55, 54.66, 57.81, \n",
    "                54.58, 32.88, 54.37, 40.45, 47.61, 60.49, \n",
    "                43.11, 27.32, 44.03, 33.56, 37.26, 54.64, \n",
    "                43.12, 25.34, 49.79, 83.56, 40.09, 60.81, \n",
    "                49.81]"
   ]
  },
  {
   "cell_type": "markdown",
   "metadata": {
    "id": "PZf3DKmEIMMm"
   },
   "source": [
    "#### Establishing hypotheses\n",
    "\n",
    "The hypotheses will be the following:\n",
    "\n",
    "|Alternate Hypothesis($H_a$)|Null Hypothesis($H_0$)|\n",
    "|---|---|\n",
    "|$H_0: \\mu= \\mu_0$|$H_0: \\mu \\ne \\mu_0$|"
   ]
  },
  {
   "cell_type": "markdown",
   "metadata": {
    "id": "2TzXnAAiI-Zr"
   },
   "source": [
    "#### Generating distribution with bootstrapping"
   ]
  },
  {
   "cell_type": "code",
   "execution_count": null,
   "metadata": {
    "colab": {
     "base_uri": "https://localhost:8080/",
     "height": 334
    },
    "executionInfo": {
     "elapsed": 741,
     "status": "ok",
     "timestamp": 1670952745978,
     "user": {
      "displayName": "Adrian Hermoza Bayona",
      "userId": "18407196184190084623"
     },
     "user_tz": 300
    },
    "id": "UZ_4esgzJM_l",
    "outputId": "e5546cf4-e2af-4b18-f0a9-f76dcbbec4cd"
   },
   "outputs": [
    {
     "name": "stdout",
     "output_type": "stream",
     "text": [
      "Mean: 45.47960705970149\n",
      "Standard deviation: 1.1827478447549415\n",
      "Median: 45.474701492537314\n",
      "Size: 10000\n"
     ]
    },
    {
     "data": {
      "image/png": "[encoded data removed]",
      "text/plain": [
       "<Figure size 432x288 with 1 Axes>"
      ]
     },
     "metadata": {
      "needs_background": "light"
     },
     "output_type": "display_data"
    }
   ],
   "source": [
    "def one_boots(data, iterations, stat):\n",
    "\n",
    "  dist = []\n",
    "\n",
    "  np.random.seed(45)\n",
    "\n",
    "  for _ in range(iterations):\n",
    "\n",
    "    dist.append(stat(np.random.choice(data, len(data), replace=True)))\n",
    "\n",
    "  return np.array(dist)\n",
    "\n",
    "def m_stats(data):\n",
    "\n",
    "  print('Mean:', np.mean(data))\n",
    "  print('Standard deviation:', np.std(data))\n",
    "  print('Median:', np.median(data))\n",
    "  print('Size:',len(data))\n",
    "\n",
    "  return np.mean(data), np.std(data), np.median(data), len(data)\n",
    "\n",
    "o_boots = one_boots(pa, 10000, np.mean)\n",
    "m_stats(o_boots)\n",
    "plt.hist(o_boots, rwidth=0.9)\n",
    "plt.show()"
   ]
  },
  {
   "cell_type": "markdown",
   "metadata": {
    "id": "MCav7sh6K5P8"
   },
   "source": [
    "#### Shaping the distribution\n",
    "Now we are going to mold the new distribution to that of the previous population which had a mean of 70, in this way first we are going to remove the already existing mean:\n",
    "\n",
    "$$\\text{new boots} = boots - mean(boots)$$\n",
    "\n",
    "Where:\n",
    "\n",
    "- boots, is the new distribution created by bootstrapping.\n",
    "- new boots, is the new distribution without media.\n",
    "\n",
    "Later we will mold the new distribution with the mean of 70:\n",
    "\n",
    "$$\\text{new boots} + 70$$\n",
    "\n",
    "Where:\n",
    "\n",
    "- new boots, is the new distribution without media."
   ]
  },
  {
   "cell_type": "code",
   "execution_count": null,
   "metadata": {
    "colab": {
     "base_uri": "https://localhost:8080/",
     "height": 265
    },
    "executionInfo": {
     "elapsed": 191,
     "status": "ok",
     "timestamp": 1670952746164,
     "user": {
      "displayName": "Adrian Hermoza Bayona",
      "userId": "18407196184190084623"
     },
     "user_tz": 300
    },
    "id": "X1ZXJJd2K8_0",
    "outputId": "942d8d9a-6ed8-4958-9163-77ca7e518aa1"
   },
   "outputs": [
    {
     "data": {
      "image/png": "[encoded data removed]",
      "text/plain": [
       "<Figure size 432x288 with 1 Axes>"
      ]
     },
     "metadata": {
      "needs_background": "light"
     },
     "output_type": "display_data"
    }
   ],
   "source": [
    "new_boots = (o_boots - np.mean(o_boots)) + 70\n",
    "plt.hist(new_boots, rwidth=0.9)\n",
    "plt.show()"
   ]
  },
  {
   "cell_type": "markdown",
   "metadata": {
    "id": "nyPbpnKjM1u0"
   },
   "source": [
    "#### Comparing distributions.\n",
    "\n",
    "Something important to do this part is to remember what type of test we want to perform, so that:\n",
    "\n",
    "- If we are performing a left-tailed test, we need to take the values from the left.\n",
    "- If we are performing a right-tailed test, we must take the values from the right.\n",
    "- If we are performing a two-tailed test, we must take the smallest values (because it always represents a tail region) and multiply it by 2 since it is a two-tailed analysis.\n",
    "\n",
    "The Commands to be used to carry out these hypothesis tests are the following:\n",
    "\n",
    "|Left Tail|Right Tail|Two Tails|\n",
    "|---|---|---|\n",
    "|<=|>=|<=|"
   ]
  },
  {
   "cell_type": "code",
   "execution_count": null,
   "metadata": {
    "colab": {
     "base_uri": "https://localhost:8080/"
    },
    "executionInfo": {
     "elapsed": 23,
     "status": "ok",
     "timestamp": 1670952746167,
     "user": {
      "displayName": "Adrian Hermoza Bayona",
      "userId": "18407196184190084623"
     },
     "user_tz": 300
    },
    "id": "o-cj6C4PM9gs",
    "outputId": "41ec00c1-d3f1-41ff-d5eb-85d189861916"
   },
   "outputs": [
    {
     "data": {
      "text/plain": [
       "0.0"
      ]
     },
     "execution_count": 19,
     "metadata": {},
     "output_type": "execute_result"
    }
   ],
   "source": [
    "p = np.sum(new_boots <= np.mean(o_boots)) / len(o_boots)\n",
    "p * 2"
   ]
  },
  {
   "cell_type": "markdown",
   "metadata": {
    "id": "UIrQjIGKPshN"
   },
   "source": [
    "#### Making a decision\n",
    "\n",
    "The p value obtained is 0, which in case of using a confidence level of 95% tells us that both samples are different so that the null hypothesis is rejected and we can affirm that our new sample is different from that of the population of the year 2010.\n",
    "\n",
    "As a conclusion, we can affirm that both the preferences of the people within the state of Pennsylvania were different for the following elections."
   ]
  },
  {
   "cell_type": "markdown",
   "metadata": {
    "id": "MsBodQBxQdn8"
   },
   "source": [
    "#### Graphical comparison of the samples\n",
    "If we see the samples graphically in this case the difference is very evident."
   ]
  },
  {
   "cell_type": "code",
   "execution_count": null,
   "metadata": {
    "colab": {
     "base_uri": "https://localhost:8080/",
     "height": 265
    },
    "executionInfo": {
     "elapsed": 20,
     "status": "ok",
     "timestamp": 1670952746168,
     "user": {
      "displayName": "Adrian Hermoza Bayona",
      "userId": "18407196184190084623"
     },
     "user_tz": 300
    },
    "id": "WHH3oVAxQgsd",
    "outputId": "dc135b53-64a0-4945-8a73-49022f519075"
   },
   "outputs": [
    {
     "data": {
      "image/png": "[encoded data removed]",
      "text/plain": [
       "<Figure size 432x288 with 1 Axes>"
      ]
     },
     "metadata": {
      "needs_background": "light"
     },
     "output_type": "display_data"
    }
   ],
   "source": [
    "plt.hist(o_boots, rwidth=0.9, color='LightSalmon')\n",
    "plt.hist(new_boots, rwidth=0.9, color='IndianRed')\n",
    "plt.show()"
   ]
  },
  {
   "cell_type": "markdown",
   "metadata": {
    "id": "npo30jknRTMU"
   },
   "source": [
    "### Hypothesis tests with two samples"
   ]
  },
  {
   "cell_type": "markdown",
   "metadata": {
    "id": "ScnG0YnDq2e4"
   },
   "source": [
    "#### Steps\n",
    "\n",
    "1. Establish the null and alternate hypotheses, for this we can follow the following criteria:\n",
    "\n",
    "|Hypothesis|Two tails(different samples)|One positive tail(higher)|One negative tail(lower)|\n",
    "|---|---|---|--|\n",
    "|$H_0$|$H_0: \\mu_1 - \\mu_2 = 0$|$H_0: \\mu_1 - \\mu_2= 0$|$H_0: \\mu_1 - \\mu_2 = 0$|\n",
    "|$H_a$|$H_a: \\mu_1 - \\mu_2 \\ne 0$|$H_a: \\mu_1 - \\mu_2 > 0$|$H_a: \\mu_1 - \\mu_2 < 0$|\n",
    "\n",
    "Where:\n",
    "\n",
    "- $H_0$, is the null hypothesis.\n",
    "- $H_a$, is the alternate hypothesis.\n",
    "- $\\mu_1$, is the sample mean.\n",
    "- $\\mu_2$, is the population mean.\n",
    "\n",
    "2. Create the distribution with bootstrapping.\n",
    "3. Mold the new distribution to the null hypothesis.\n",
    "4. Compare distributions.\n",
    "5. Make a decision."
   ]
  },
  {
   "cell_type": "markdown",
   "metadata": {
    "id": "GZYHwtkNr2Ni"
   },
   "source": [
    "#### Data\n",
    "\n",
    "For the two-sample analysis we will use the same data from Pennsylvania but will increase data from Ohio. So we want to test with a 95% confidence level whether people in these two states have different electoral preferences two states are different:\n",
    "\n",
    "```\n",
    "PA = [60.08, 40.64, 36.07, 41.21, 31.04, 43.78,\n",
    "                 44.08, 46.85, 44.71, 46.15, 63.10, 52.20,\n",
    "                 43.18, 40.24, 39.92, 47.87, 37.77, 40.11,\n",
    "                 49.85, 48.61, 38.62, 54.25, 34.84, 47.75,\n",
    "                 43.82, 55.97, 58.23, 42.97, 42.38, 36.11,\n",
    "                 37.53, 42.65, 50.96, 47.43, 56.24, 45.60,\n",
    "                 46.39, 35.22, 48.56, 32.97, 57.88, 36.05,\n",
    "                 37.72, 50.36, 32.12, 41.55, 54.66, 57.81,\n",
    "                 54.58, 32.88, 54.37, 40.45, 47.61, 60.49,\n",
    "                 43.11, 27.32, 44.03, 33.56, 37.26, 54.64,\n",
    "                 43.12, 25.34, 49.79, 83.56, 40.09, 60.81,\n",
    "                 49.81, 34.84, 47.75, 43.82, 55.97, 57.81,\n",
    "                 54.58, 32.88, 54.37, 40.45, 47.61, 63.10,\n",
    "                 52.20, 43.18, 40.24, 39.92, 47.87, 37.77,\n",
    "                 40.11, 49.85, 48.61, 36.2]\n",
    "\n",
    "OH = [56.94, 50.46, 65.99, 45.88, 42.23, 45.26,\n",
    "                 57.01, 53.61, 59.10, 61.48, 43.43, 44.69,\n",
    "                 54.59, 48.36, 45.89, 48.62, 43.92, 38.23,\n",
    "                 28.79, 63.57, 38.07, 40.18, 43.05, 41.56,\n",
    "                 42.49, 36.06, 52.76, 46.07, 39.43, 39.26,\n",
    "                 47.47, 27.92, 38.01, 45.45, 29.07, 28.94,\n",
    "                 51.28, 50.10, 39.84, 36.43, 35.71, 31.47,\n",
    "                 47.01, 40.10, 48.76, 31.56, 39.86, 45.31,\n",
    "                 35.47, 51.38, 46.33, 48.73, 41.77, 41.32,\n",
    "                 48.46, 53.14, 34.01, 54.74, 40.67, 38.96,\n",
    "                 46.29, 38.25, 6.80, 31.75, 46.33, 44.90,\n",
    "                 33.57, 38.10, 39.67, 40.47, 49.44, 37.62,\n",
    "                 36.71, 46.73, 42.20, 53.16, 52.40, 58.36,\n",
    "                 68.02, 38.53, 34.58, 69.64, 60.50, 53.53,\n",
    "                 36.54, 49.58, 41.97, 38.11]\n",
    "```"
   ]
  },
  {
   "cell_type": "code",
   "execution_count": null,
   "metadata": {
    "id": "TdIJpE6jigLI"
   },
   "outputs": [],
   "source": [
    "PA = [60.08, 40.64, 36.07, 41.21, 31.04, 43.78, \n",
    "                44.08, 46.85, 44.71, 46.15, 63.10, 52.20, \n",
    "                43.18, 40.24, 39.92, 47.87, 37.77, 40.11, \n",
    "                49.85, 48.61, 38.62, 54.25, 34.84, 47.75, \n",
    "                43.82, 55.97, 58.23, 42.97, 42.38, 36.11, \n",
    "                37.53, 42.65, 50.96, 47.43, 56.24, 45.60, \n",
    "                46.39, 35.22, 48.56, 32.97, 57.88, 36.05, \n",
    "                37.72, 50.36, 32.12, 41.55, 54.66, 57.81, \n",
    "                54.58, 32.88, 54.37, 40.45, 47.61, 60.49, \n",
    "                43.11, 27.32, 44.03, 33.56, 37.26, 54.64, \n",
    "                43.12, 25.34, 49.79, 83.56, 40.09, 60.81, \n",
    "                49.81, 34.84, 47.75, 43.82, 55.97, 57.81, \n",
    "                54.58, 32.88, 54.37, 40.45, 47.61, 63.10, \n",
    "                52.20, 43.18, 40.24, 39.92, 47.87, 37.77, \n",
    "                40.11, 49.85, 48.61, 36.2]\n",
    "\n",
    "OH = [56.94, 50.46, 65.99, 45.88, 42.23, 45.26, \n",
    "                57.01, 53.61, 59.10, 61.48, 43.43, 44.69, \n",
    "                54.59, 48.36, 45.89, 48.62, 43.92, 38.23, \n",
    "                28.79, 63.57, 38.07, 40.18, 43.05, 41.56, \n",
    "                42.49, 36.06, 52.76, 46.07, 39.43, 39.26, \n",
    "                47.47, 27.92, 38.01, 45.45, 29.07, 28.94, \n",
    "                51.28, 50.10, 39.84, 36.43, 35.71, 31.47, \n",
    "                47.01, 40.10, 48.76, 31.56, 39.86, 45.31, \n",
    "                35.47, 51.38, 46.33, 48.73, 41.77, 41.32, \n",
    "                48.46, 53.14, 34.01, 54.74, 40.67, 38.96, \n",
    "                46.29, 38.25, 6.80, 31.75, 46.33, 44.90, \n",
    "                33.57, 38.10, 39.67, 40.47, 49.44, 37.62, \n",
    "                36.71, 46.73, 42.20, 53.16, 52.40, 58.36, \n",
    "                68.02, 38.53, 34.58, 69.64, 60.50, 53.53, \n",
    "                36.54, 49.58, 41.97, 38.11]"
   ]
  },
  {
   "cell_type": "code",
   "execution_count": null,
   "metadata": {
    "colab": {
     "base_uri": "https://localhost:8080/"
    },
    "executionInfo": {
     "elapsed": 208,
     "status": "ok",
     "timestamp": 1670955550686,
     "user": {
      "displayName": "Adrian Hermoza Bayona",
      "userId": "18407196184190084623"
     },
     "user_tz": 300
    },
    "id": "l-eN3uzEtETK",
    "outputId": "6f5fa647-49dc-4805-dc5d-e65461d28136"
   },
   "outputs": [
    {
     "data": {
      "text/plain": [
       "(88, 88)"
      ]
     },
     "execution_count": 35,
     "metadata": {},
     "output_type": "execute_result"
    }
   ],
   "source": [
    "# Note that in this case both samples have equal sizes.\n",
    "\n",
    "len(OH), len(PA)"
   ]
  },
  {
   "cell_type": "markdown",
   "metadata": {
    "id": "gt10EDaIvHvu"
   },
   "source": [
    "#### Establishing hypotheses\n",
    "\n",
    "The hypotheses will be the following:\n",
    "\n",
    "|Null hypothesis for two samples($H_0$)|Alternate hypothesis for two samples($H_a$)|\n",
    "|---|---|\n",
    "|$H_0: \\mu_1 - \\mu_2 = 0$|$H_0: \\mu_1 -\\mu_2 \\ne0$|"
   ]
  },
  {
   "cell_type": "markdown",
   "metadata": {
    "id": "6NheHmQb4nH3"
   },
   "source": [
    "#### Generating distributions with bootstrapping"
   ]
  },
  {
   "cell_type": "markdown",
   "metadata": {
    "id": "PUrO0uU6iJAo"
   },
   "source": [
    "##### PA"
   ]
  },
  {
   "cell_type": "code",
   "execution_count": null,
   "metadata": {
    "colab": {
     "base_uri": "https://localhost:8080/",
     "height": 265
    },
    "executionInfo": {
     "elapsed": 1192,
     "status": "ok",
     "timestamp": 1670955002306,
     "user": {
      "displayName": "Adrian Hermoza Bayona",
      "userId": "18407196184190084623"
     },
     "user_tz": 300
    },
    "id": "v0LodBJ4iQKK",
    "outputId": "fe37d9d2-f6a2-4470-a96c-a88b1baa5952"
   },
   "outputs": [
    {
     "data": {
      "image/png": "[encoded data removed]",
      "text/plain": [
       "<Figure size 432x288 with 1 Axes>"
      ]
     },
     "metadata": {
      "needs_background": "light"
     },
     "output_type": "display_data"
    }
   ],
   "source": [
    "pa_boots = one_boots(PA, 10000, np.mean)\n",
    "\n",
    "plt.hist(pa_boots, rwidth=0.9)\n",
    "plt.show()"
   ]
  },
  {
   "cell_type": "markdown",
   "metadata": {
    "id": "H3KOyMvNiQuQ"
   },
   "source": [
    "##### OH"
   ]
  },
  {
   "cell_type": "code",
   "execution_count": null,
   "metadata": {
    "colab": {
     "base_uri": "https://localhost:8080/",
     "height": 265
    },
    "executionInfo": {
     "elapsed": 1332,
     "status": "ok",
     "timestamp": 1670955036225,
     "user": {
      "displayName": "Adrian Hermoza Bayona",
      "userId": "18407196184190084623"
     },
     "user_tz": 300
    },
    "id": "iZz3y3f1iSSJ",
    "outputId": "5c0ccff2-2a18-4d92-fa60-6afa292bb1b2"
   },
   "outputs": [
    {
     "data": {
      "image/png": "[encoded data removed]",
      "text/plain": [
       "<Figure size 432x288 with 1 Axes>"
      ]
     },
     "metadata": {
      "needs_background": "light"
     },
     "output_type": "display_data"
    }
   ],
   "source": [
    "oh_boots = one_boots(OH, 10000, np.mean)\n",
    "\n",
    "plt.hist(oh_boots, rwidth=0.9)\n",
    "plt.show()"
   ]
  },
  {
   "cell_type": "markdown",
   "metadata": {
    "id": "TWwUO0PGk8sR"
   },
   "source": [
    "#### Shaping the distribution\n",
    "Now we are going to model the new distribution using both distributions, we must remember that this is a two-sample test, which means that in this case we will use the mean of both samples to model the new hypothetical sample, as follows:\n",
    "\n",
    "$$\\text{new boots(A)} = boots(A) - mean(Sample(A))$$\n",
    "$$\\text{new boots(B)} = boots(B) - mean(Sample(B))$$\n",
    "\n",
    "Where:\n",
    "\n",
    "- $\\text{new boots(A)}$, is the new distribution of sample A taken to mean 0.\n",
    "\n",
    "- $\\text{boots(A)}$, is the new distribution generated using bootstrapping.\n",
    "\n",
    "- $\\text{mean(Sample(A))}$, is the mean of the sample A which is used to bring the new distribution to the mean of 0.\n",
    "\n",
    "- $\\text{new boots(B)}$, is the new distribution of sample B taken to mean 0.\n",
    "\n",
    "- $\\text{boots(B)}$, is the new distribution generated using bootstrapping.\n",
    "\n",
    "- $\\text{mean(Sample(B))}$, is the mean of sample B which is used to bring the new distribution to a mean of 0.\n",
    "\n",
    "Subsequently, it is necessary to generate an average of both concatenated samples to be able to add this average to the previous result, thus generating a hypothetical population simulating the null hypothesis:\n",
    "\n",
    "$$\\text{mean(Sample(A) Concat Sample(B))}$$\n",
    "\n",
    "Where:\n",
    "\n",
    "- $Sample(A)$, is sample A.\n",
    "\n",
    "- $Sample(B)$, is sample B.\n",
    "\n",
    "- $mean$, is the mean.\n",
    "\n",
    "To conclude, it is necessary to add both results, generating the aforementioned hypothetical population simulating the null hypothesis:\n",
    "\n",
    "$$\\text{new boots(A)} = boots(A) - mean(Sample(A)) + mean(Sample(A) Concat Sample(B))$$\n",
    "\n",
    "$$\\text{new boots(B)} = boots(B) - mean(Sample(B)) + mean(Sample(A) Concat Sample(B))$$"
   ]
  },
  {
   "cell_type": "markdown",
   "metadata": {
    "id": "lQ5AQUwgqSkW"
   },
   "source": [
    "#### Comparing distributions.\n",
    "\n",
    "Something important to do this part is to remember what type of test we want to perform, so that:\n",
    "\n",
    "- If we are performing a left-tailed test, we need to take the values from the left.\n",
    "- If we are performing a right-tailed test, we must take the values from the right.\n",
    "- If we are performing a two-tailed test, we must take the smallest values (because it always represents a tail region) and multiply it by 2 since it is a two-tailed analysis.\n",
    "\n",
    "The Commands to be used to carry out these hypothesis tests are the following:\n",
    "\n",
    "|Left Tail|Right Tail|Two Tails|\n",
    "|---|---|---|\n",
    "|<=|>=|<=|\n",
    "\n",
    "Finally, when performing a two-sample test, it is necessary to subtract both modified samples to compare them with the subtraction of the sample means."
   ]
  },
  {
   "cell_type": "code",
   "execution_count": null,
   "metadata": {
    "colab": {
     "base_uri": "https://localhost:8080/"
    },
    "executionInfo": {
     "elapsed": 144,
     "status": "ok",
     "timestamp": 1670955836847,
     "user": {
      "displayName": "Adrian Hermoza Bayona",
      "userId": "18407196184190084623"
     },
     "user_tz": 300
    },
    "id": "ibUctB_YrK-g",
    "outputId": "518ebf4f-63fb-45e9-f377-a229272e3199"
   },
   "outputs": [
    {
     "data": {
      "text/plain": [
       "array([-2.51807666, -2.25206581,  2.06685041, ...,  0.99746099,\n",
       "       -0.3437924 ,  1.48971336])"
      ]
     },
     "execution_count": 38,
     "metadata": {},
     "output_type": "execute_result"
    }
   ],
   "source": [
    "two_boots = pa_boots - oh_boots\n",
    "two_boots"
   ]
  },
  {
   "cell_type": "code",
   "execution_count": null,
   "metadata": {
    "colab": {
     "base_uri": "https://localhost:8080/"
    },
    "executionInfo": {
     "elapsed": 5,
     "status": "ok",
     "timestamp": 1670955919091,
     "user": {
      "displayName": "Adrian Hermoza Bayona",
      "userId": "18407196184190084623"
     },
     "user_tz": 300
    },
    "id": "TxizFJ0luP5f",
    "outputId": "f328b0b7-0c61-4530-f83a-22b295ccccf5"
   },
   "outputs": [
    {
     "data": {
      "text/plain": [
       "1.3187500000000014"
      ]
     },
     "execution_count": 40,
     "metadata": {},
     "output_type": "execute_result"
    }
   ],
   "source": [
    "empirical_diff_means = np.mean(PA) - np.mean(OH)\n",
    "empirical_diff_means"
   ]
  },
  {
   "cell_type": "code",
   "execution_count": null,
   "metadata": {
    "colab": {
     "base_uri": "https://localhost:8080/"
    },
    "executionInfo": {
     "elapsed": 6,
     "status": "ok",
     "timestamp": 1670956292067,
     "user": {
      "displayName": "Adrian Hermoza Bayona",
      "userId": "18407196184190084623"
     },
     "user_tz": 300
    },
    "id": "1x9x7Uhuus51",
    "outputId": "400ff6b8-51bb-4d8d-d37a-fa8a9da31c36"
   },
   "outputs": [
    {
     "name": "stdout",
     "output_type": "stream",
     "text": [
      "p-value = 1.0864\n"
     ]
    }
   ],
   "source": [
    "p_two = np.sum(two_boots <= empirical_diff_means) / len(two_boots)\n",
    "print('p-value =', p_two*2)"
   ]
  },
  {
   "cell_type": "markdown",
   "metadata": {
    "id": "Dj4zzBxivS4G"
   },
   "source": [
    "#### Making a decision\n",
    "\n",
    "The p value obtained is 1.0864 once multiplied by 2 because it is a two-tailed test, which implies that using a 95% confidence level it is possible to fail to reject the null hypothesis and affirm that both distributions resemble the one hypothetical population that simulates the null hypothesis."
   ]
  },
  {
   "cell_type": "markdown",
   "metadata": {
    "id": "1pfON5d31B3l"
   },
   "source": [
    "# Difference between Permutations and Bootstrapping\n",
    "Both techniques are techniques to perform hypothesis tests without taking into account the assumption of normality, so that they fit any distribution."
   ]
  },
  {
   "cell_type": "markdown",
   "metadata": {
    "id": "yM-feYYeEsdE"
   },
   "source": [
    "## Differences between both methods\n",
    "\n",
    "Bootstrapping is a more general method that is not limited to scenarios with two data sets, not limited to hypothesis testing, and less restricted in terms of null and alternative hypotheses. It should be used to estimate confidence intervals and to test quantitative hypotheses of known effects.\n",
    "The permutation test can be used in settings with two data sets (two samples, matched pairs, or two variables in one sample), and should be used when we are interested in confirming the presence (or absence) of a certain effect. which is observable between the two data sets.\n",
    "\n",
    "The permutation method adds more randomness to the testing process than bootstrap (this difference is more obvious when the samples are smaller), so we get a more conservative answer. This is why permutation tests are a better option for categorical hypothesis tests.\n",
    "In this specific example, if our significance level were set to 10%, the choice of method would make the critical difference, since the p-values fall in different ways (and this is also why we must always determine a significance). . level before implementing a test, so we're not tempted to resolve).\n",
    "\n",
    "In summary, permutation tests should be used to:\n",
    "\n",
    "- Hypothesis test for the presence (or absence) of effects (for example, if some effect of a certain type is present, or if some positive effect is present, or if some negative effect is present).\n",
    "\n",
    "Bootstrapping should be used to:\n",
    "\n",
    "- Quantitative hypothesis testing for specific known/expected effects (eg, did average car battery life actually improve by one year or more?).\n",
    "- Determination of confidence intervals in a non-parametric way."
   ]
  },
  {
   "cell_type": "markdown",
   "metadata": {
    "id": "CRfid3nsHa3t"
   },
   "source": [
    "## Hypothesis difference\n",
    "\n",
    "Bootstrapping\n",
    "- Ho: mean (treatment group score) — mean (control group score) = 0\n",
    "- Ha: mean (treatment group score) — mean (control group score) >= 0\n",
    "- Direction: right tail\n",
    "\n",
    "---\n",
    "\n",
    "- Ho : mean (the lowest quarter of the scores of the treatment group) — mean (the lowest quarter of the scores of the control group) = 0\n",
    "- Ha: mean (lowest fourth of treatment group scores) — mean (lowest fourth of control group scores) <= 0\n",
    "- Direction: left tail\n",
    "\n",
    "Permutation\n",
    "- Ho : the distributions of the students' scores are the same (including the means) = 0\n",
    "- Ha: mean (treatment group score) — mean (control group score) > 0\n",
    "- Direction: right tail\n",
    "\n",
    "---\n",
    "\n",
    "- Ho : the distributions of student scores are the same (including the means of the lowest quarter scores)\n",
    "- Ha: mean (lowest fourth of treatment group scores) — mean (lowest fourth of control group scores) < 0\n",
    "- Direction: left tail"
   ]
  }
 ],
 "metadata": {
  "colab": {
   "authorship_tag": "ABX9TyOvjnTtWmfextCQGXwkIe2j",
   "collapsed_sections": [
    "jM3v2FE5GQJc",
    "7syJiigcHGqr",
    "PZf3DKmEIMMm",
    "2TzXnAAiI-Zr",
    "MCav7sh6K5P8",
    "nyPbpnKjM1u0",
    "UIrQjIGKPshN",
    "MsBodQBxQdn8",
    "ScnG0YnDq2e4",
    "GZYHwtkNr2Ni",
    "gt10EDaIvHvu",
    "6NheHmQb4nH3",
    "TWwUO0PGk8sR"
   ],
   "provenance": [],
   "toc_visible": true
  },
  "kernelspec": {
   "display_name": "Python 3 (ipykernel)",
   "language": "python",
   "name": "python3"
  },
  "language_info": {
   "codemirror_mode": {
    "name": "ipython",
    "version": 3
   },
   "file_extension": ".py",
   "mimetype": "text/x-python",
   "name": "python",
   "nbconvert_exporter": "python",
   "pygments_lexer": "ipython3",
   "version": "3.9.13"
  }
 },
 "nbformat": 4,
 "nbformat_minor": 1
}
