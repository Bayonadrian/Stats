{
 "cells": [
  {
   "cell_type": "markdown",
   "metadata": {
    "id": "RxjLKgdOqClX"
   },
   "source": [
    "# Chi-squared\n",
    "\n",
    "The chi-square tests are tests that do not have normality assumptions and they do not compare means, unlike the t-student, normal distribution and anova."
   ]
  },
  {
   "cell_type": "markdown",
   "metadata": {
    "id": "BJfJokiMrPq5"
   },
   "source": [
    "# Chi-Square goodness of fit test\n",
    "\n",
    "The chi-square test for the fit has the purpose of determining how close or far two distributions are from each other, something important is that in this case these distributions must be of real and expected values (they are usually imaginary), of In this way, what is wanted is to seek to answer the following question:\n",
    "\n",
    "\n",
    "Does the actual (observed) distribution differ from the model (expected) due to random error, or do the differences mean that the model does not fit the data?"
   ]
  },
  {
   "cell_type": "markdown",
   "metadata": {
    "id": "D2KOfZHIrqD9"
   },
   "source": [
    "## Steps\n",
    "\n",
    "- State the null and alternative hypotheses.\n",
    "- Check the assumptions and conditions.\n",
    "- Calculate test statistics.\n",
    "- Make a decision using p-values or critical values."
   ]
  },
  {
   "cell_type": "markdown",
   "metadata": {
    "id": "wPDolZbhvzGo"
   },
   "source": [
    "## Hypothesis\n",
    "\n",
    "$H_0$ Null hypothesis | $H_a$ Alternative hypothesis\n",
    "--- | ---\n",
    "The observed distribution is the same as the expected | The observed distribution is different from the expected one."
   ]
  },
  {
   "cell_type": "markdown",
   "metadata": {
    "id": "ApZa34ylw4Fk"
   },
   "source": [
    "## Assumptions\n",
    "\n",
    "- Counted data condition: Data must be counted for the categories of a categorical variable.\n",
    "\n",
    "- Assumption of independence: the counts in the cells should be independent of each other (think about how the data was collected)\n",
    "\n",
    "- Randomization condition: the individuals counted must be a random sample of the population.\n",
    "\n",
    "- Expected cell frequency/Sample size Condition: Expect at least 5 individuals per cell."
   ]
  },
  {
   "cell_type": "markdown",
   "metadata": {
    "id": "xCToO89N0FC7"
   },
   "source": [
    "## Data\n",
    "In order to carry out the tests we will use three examples, one with two normal samples with equal means and another with a normal distribution, the other uniform with equal means and the last one with two equal distributions."
   ]
  },
  {
   "cell_type": "code",
   "execution_count": 1,
   "metadata": {
    "id": "5MLuwSGdoRnm"
   },
   "outputs": [],
   "source": [
    "import scipy.stats as sp\n",
    "import numpy as np\n",
    "\n",
    "np.random.seed(42)\n",
    "\n",
    "# First\n",
    "\n",
    "normalf = sp.norm(loc= 150, scale= 12).rvs(10000)\n",
    "normals = sp.norm(loc= 150, scale= 12).rvs(10000)\n",
    "\n",
    "# Second\n",
    "\n",
    "norm = sp.norm(loc= 70, scale= 10).rvs(10000)\n",
    "unif = sp.uniform(loc= 70, scale= 10).rvs(10000)\n",
    "\n",
    "# Third\n",
    "\n",
    "observed_data = [8, 6, 10, 7, 8, 11, 9]\n",
    "expected_data = [9, 8, 11, 8, 10, 7, 6]"
   ]
  },
  {
   "cell_type": "markdown",
   "metadata": {
    "id": "SYYMvEyi_ywY"
   },
   "source": [
    "### First"
   ]
  },
  {
   "cell_type": "code",
   "execution_count": 2,
   "metadata": {
    "colab": {
     "base_uri": "https://localhost:8080/"
    },
    "id": "XquZ0wzPD5h2",
    "outputId": "3d0b93ca-ec97-46ec-a462-ffe662ee0bc3"
   },
   "outputs": [
    {
     "data": {
      "text/plain": [
       "(1499743.6819957895, 1501624.0863677831)"
      ]
     },
     "execution_count": 2,
     "metadata": {},
     "output_type": "execute_result"
    }
   ],
   "source": [
    "sum(normalf), sum(normals)"
   ]
  },
  {
   "cell_type": "code",
   "execution_count": 3,
   "metadata": {
    "colab": {
     "base_uri": "https://localhost:8080/"
    },
    "id": "LGINCsfSIdA8",
    "outputId": "c4fc9de0-cbbd-468a-eef9-a1ef5e738bf9"
   },
   "outputs": [
    {
     "data": {
      "text/plain": [
       "(1499743.6819957895, 1499743.6819957835)"
      ]
     },
     "execution_count": 3,
     "metadata": {},
     "output_type": "execute_result"
    }
   ],
   "source": [
    "# In order to carry out this test it is necessary that the amounts in both samples are equal.\n",
    "\n",
    "normals_transformed = np.sum(normalf)*normals/np.sum(normals)\n",
    "\n",
    "sum(normalf), sum(normals_transformed)"
   ]
  },
  {
   "cell_type": "markdown",
   "metadata": {
    "id": "cZkdg5wuAVN5"
   },
   "source": [
    "#### Test"
   ]
  },
  {
   "cell_type": "code",
   "execution_count": 4,
   "metadata": {
    "colab": {
     "base_uri": "https://localhost:8080/"
    },
    "id": "-Abf0hCIAUdr",
    "outputId": "e5688aed-e6ef-479a-9676-9b8074240b37"
   },
   "outputs": [
    {
     "data": {
      "text/plain": [
       "Power_divergenceResult(statistic=19704.951391951057, pvalue=0.0)"
      ]
     },
     "execution_count": 4,
     "metadata": {},
     "output_type": "execute_result"
    }
   ],
   "source": [
    "sp.chisquare(normalf, normals_transformed)"
   ]
  },
  {
   "cell_type": "markdown",
   "metadata": {
    "id": "lRw3xkfD8mf3"
   },
   "source": [
    "#### Graphically"
   ]
  },
  {
   "cell_type": "code",
   "execution_count": 5,
   "metadata": {
    "colab": {
     "base_uri": "https://localhost:8080/",
     "height": 265
    },
    "id": "ylc4OkWx8pzH",
    "outputId": "9bbab548-3b5d-458a-a0fd-499d2fb6dd69"
   },
   "outputs": [
    {
     "data": {
      "image/png": "[encoded data removed]",
      "text/plain": [
       "<Figure size 640x480 with 1 Axes>"
      ]
     },
     "metadata": {},
     "output_type": "display_data"
    }
   ],
   "source": [
    "import matplotlib.pyplot as plt\n",
    "\n",
    "plt.hist(normalf, bins= 20, alpha= 0.4)\n",
    "plt.hist(normals, bins= 20, alpha= 0.4)\n",
    "plt.show()"
   ]
  },
  {
   "cell_type": "markdown",
   "metadata": {
    "id": "wY-m-efz_5-G"
   },
   "source": [
    "### Second"
   ]
  },
  {
   "cell_type": "code",
   "execution_count": 6,
   "metadata": {
    "colab": {
     "base_uri": "https://localhost:8080/"
    },
    "id": "7jvCQYaUD-Od",
    "outputId": "d58db174-b981-4b41-f9d2-65a706cd5c08"
   },
   "outputs": [
    {
     "data": {
      "text/plain": [
       "(698753.723110264, 749893.875786725)"
      ]
     },
     "execution_count": 6,
     "metadata": {},
     "output_type": "execute_result"
    }
   ],
   "source": [
    "sum(norm), sum(unif)"
   ]
  },
  {
   "cell_type": "code",
   "execution_count": 7,
   "metadata": {
    "colab": {
     "base_uri": "https://localhost:8080/"
    },
    "id": "SOXTCbb9_QDM",
    "outputId": "ae9ea644-f67e-4ee9-8cc7-08337ef68ed3"
   },
   "outputs": [
    {
     "data": {
      "text/plain": [
       "(698753.723110264, 698753.7231102693)"
      ]
     },
     "execution_count": 7,
     "metadata": {},
     "output_type": "execute_result"
    }
   ],
   "source": [
    "unif_transformed = np.sum(norm)*unif/np.sum(unif)\n",
    "\n",
    "sum(norm), sum(unif_transformed)"
   ]
  },
  {
   "cell_type": "markdown",
   "metadata": {
    "id": "1bVkm0MCAqxd"
   },
   "source": [
    "#### Test"
   ]
  },
  {
   "cell_type": "code",
   "execution_count": 8,
   "metadata": {
    "colab": {
     "base_uri": "https://localhost:8080/"
    },
    "id": "5yP0hs34AsS1",
    "outputId": "3b61a0a9-8fa9-42e5-a53b-f4e9dc4dbe4a"
   },
   "outputs": [
    {
     "data": {
      "text/plain": [
       "Power_divergenceResult(statistic=15006.20264494569, pvalue=1.7142677691787394e-208)"
      ]
     },
     "execution_count": 8,
     "metadata": {},
     "output_type": "execute_result"
    }
   ],
   "source": [
    "sp.chisquare(norm, unif_transformed)"
   ]
  },
  {
   "cell_type": "markdown",
   "metadata": {
    "id": "FI5aRqWEAspO"
   },
   "source": [
    "#### Graphically"
   ]
  },
  {
   "cell_type": "code",
   "execution_count": 9,
   "metadata": {
    "colab": {
     "base_uri": "https://localhost:8080/",
     "height": 265
    },
    "id": "uw8Gei-GAMXl",
    "outputId": "f55d8fe1-2e6b-4f68-e3fc-04b3f5eb7b93"
   },
   "outputs": [
    {
     "data": {
      "image/png": "[encoded data removed]",
      "text/plain": [
       "<Figure size 640x480 with 1 Axes>"
      ]
     },
     "metadata": {},
     "output_type": "display_data"
    }
   ],
   "source": [
    "import matplotlib.pyplot as plt\n",
    "\n",
    "plt.hist(norm, bins= 20, alpha= 0.4)\n",
    "plt.hist(unif, bins= 20, alpha= 0.4)\n",
    "plt.show()"
   ]
  },
  {
   "cell_type": "markdown",
   "metadata": {
    "id": "R02yfijqEKL5"
   },
   "source": [
    "### Third"
   ]
  },
  {
   "cell_type": "code",
   "execution_count": 10,
   "metadata": {
    "colab": {
     "base_uri": "https://localhost:8080/"
    },
    "id": "PXcDbcbjDoUV",
    "outputId": "3710f4ad-590b-418e-dc79-ac343aae6351"
   },
   "outputs": [
    {
     "data": {
      "text/plain": [
       "(59, 59)"
      ]
     },
     "execution_count": 10,
     "metadata": {},
     "output_type": "execute_result"
    }
   ],
   "source": [
    "sum(expected_data), sum(observed_data)"
   ]
  },
  {
   "cell_type": "markdown",
   "metadata": {
    "id": "54Zhj2BdEsem"
   },
   "source": [
    "#### Test"
   ]
  },
  {
   "cell_type": "code",
   "execution_count": 11,
   "metadata": {
    "colab": {
     "base_uri": "https://localhost:8080/"
    },
    "id": "Hs8AK0KoEtkK",
    "outputId": "7504d77e-29aa-4550-b3a9-0bf0fa1355e2"
   },
   "outputs": [
    {
     "data": {
      "text/plain": [
       "Power_divergenceResult(statistic=5.0127344877344875, pvalue=0.542180861413329)"
      ]
     },
     "execution_count": 11,
     "metadata": {},
     "output_type": "execute_result"
    }
   ],
   "source": [
    "sp.chisquare(observed_data, expected_data)"
   ]
  },
  {
   "cell_type": "markdown",
   "metadata": {
    "id": "46OTPvdfE2YZ"
   },
   "source": [
    "#### Graphically"
   ]
  },
  {
   "cell_type": "code",
   "execution_count": 12,
   "metadata": {
    "colab": {
     "base_uri": "https://localhost:8080/",
     "height": 265
    },
    "id": "1ExXRm_vE4fl",
    "outputId": "b001a54e-047d-4e32-d09c-ea594c77a82b"
   },
   "outputs": [
    {
     "data": {
      "image/png": "[encoded data removed]",
      "text/plain": [
       "<Figure size 640x480 with 1 Axes>"
      ]
     },
     "metadata": {},
     "output_type": "display_data"
    }
   ],
   "source": [
    "plt.hist(expected_data, bins= 20, alpha= 0.4)\n",
    "plt.hist(observed_data, bins= 20, alpha= 0.4)\n",
    "plt.show()"
   ]
  },
  {
   "cell_type": "code",
   "execution_count": 13,
   "metadata": {
    "colab": {
     "base_uri": "https://localhost:8080/",
     "height": 320
    },
    "id": "--kfyhazFGNZ",
    "outputId": "bf219200-3b32-4f82-8360-9db1f759ec6b"
   },
   "outputs": [
    {
     "data": {
      "image/png": "[encoded data removed]",
      "text/plain": [
       "<Figure size 1400x500 with 2 Axes>"
      ]
     },
     "metadata": {},
     "output_type": "display_data"
    }
   ],
   "source": [
    "ob, ex = plt.subplots(1, 2, figsize= (14, 5))\n",
    "\n",
    "ex[0].hist(expected_data, bins= 20, color= 'b', alpha= 0.4)\n",
    "ex[1].hist(observed_data, bins= 20, color= 'r', alpha= 0.4)\n",
    "\n",
    "plt.show()"
   ]
  },
  {
   "cell_type": "markdown",
   "metadata": {
    "id": "1E2gxSc6QQG8"
   },
   "source": [
    "### Manually\n",
    "\n",
    "We are going to calculate the last example manually, so the formula is the following:\n",
    "\n",
    "$$x^2 = \\sum{\\frac{(Obs-Exp)^2}{Exp}}$$\n",
    "\n",
    "Where:\n",
    "\n",
    "- Obs(observations), are the observations.\n",
    "- Exp(expectations), are the expected ones.\n",
    "\n",
    "Do not forget in this case the degrees of freedom are expressed by:\n",
    "\n",
    "$$df= n(obs) -1$$\n",
    "\n",
    "where:\n",
    "\n",
    "- df, are the degrees of freedom.\n",
    "- n, is the number of observations."
   ]
  },
  {
   "cell_type": "code",
   "execution_count": 14,
   "metadata": {
    "colab": {
     "base_uri": "https://localhost:8080/"
    },
    "id": "i01lVbzVSp1k",
    "outputId": "de7d4590-8f4d-41dd-b477-441b92df4e6f"
   },
   "outputs": [
    {
     "data": {
      "text/plain": [
       "(array([ 8,  6, 10,  7,  8, 11,  9]), array([ 9,  8, 11,  8, 10,  7,  6]))"
      ]
     },
     "execution_count": 14,
     "metadata": {},
     "output_type": "execute_result"
    }
   ],
   "source": [
    "observed_data = np.array(observed_data)\n",
    "\n",
    "expected_data = np.array(expected_data)\n",
    "\n",
    "observed_data, expected_data"
   ]
  },
  {
   "cell_type": "code",
   "execution_count": 15,
   "metadata": {
    "colab": {
     "base_uri": "https://localhost:8080/"
    },
    "id": "AsUOLrjyTncw",
    "outputId": "c0306348-4fa6-4eaf-fdee-0a2f3e1737ea"
   },
   "outputs": [
    {
     "data": {
      "text/plain": [
       "array([-1, -2, -1, -1, -2,  4,  3])"
      ]
     },
     "execution_count": 15,
     "metadata": {},
     "output_type": "execute_result"
    }
   ],
   "source": [
    "f_step = observed_data - expected_data\n",
    "f_step"
   ]
  },
  {
   "cell_type": "code",
   "execution_count": 16,
   "metadata": {
    "colab": {
     "base_uri": "https://localhost:8080/"
    },
    "id": "e9o1R2FpVZMc",
    "outputId": "57ce6874-9cb2-4b06-b7fa-a76628ea50d8"
   },
   "outputs": [
    {
     "data": {
      "text/plain": [
       "array([ 1,  4,  1,  1,  4, 16,  9], dtype=int32)"
      ]
     },
     "execution_count": 16,
     "metadata": {},
     "output_type": "execute_result"
    }
   ],
   "source": [
    "s_step = f_step ** 2\n",
    "s_step"
   ]
  },
  {
   "cell_type": "code",
   "execution_count": 17,
   "metadata": {
    "colab": {
     "base_uri": "https://localhost:8080/"
    },
    "id": "N_pCfRWPVgo_",
    "outputId": "da2bc218-86d4-443d-9999-fec302ce10a9"
   },
   "outputs": [
    {
     "data": {
      "text/plain": [
       "array([0.11111111, 0.5       , 0.09090909, 0.125     , 0.4       ,\n",
       "       2.28571429, 1.5       ])"
      ]
     },
     "execution_count": 17,
     "metadata": {},
     "output_type": "execute_result"
    }
   ],
   "source": [
    "t_step = s_step / expected_data\n",
    "t_step"
   ]
  },
  {
   "cell_type": "code",
   "execution_count": 18,
   "metadata": {
    "colab": {
     "base_uri": "https://localhost:8080/"
    },
    "id": "bPrUyVkNVt6Y",
    "outputId": "71bd40f0-5eac-4760-b6ca-af3bddb4cfa5"
   },
   "outputs": [
    {
     "data": {
      "text/plain": [
       "5.0127344877344875"
      ]
     },
     "execution_count": 18,
     "metadata": {},
     "output_type": "execute_result"
    }
   ],
   "source": [
    "statistic = sum(t_step)\n",
    "statistic"
   ]
  },
  {
   "cell_type": "code",
   "execution_count": 19,
   "metadata": {
    "colab": {
     "base_uri": "https://localhost:8080/"
    },
    "id": "F3sgQECUXaTv",
    "outputId": "9f187536-abec-4703-f26e-ffdbb3311889"
   },
   "outputs": [
    {
     "data": {
      "text/plain": [
       "0.542180861413329"
      ]
     },
     "execution_count": 19,
     "metadata": {},
     "output_type": "execute_result"
    }
   ],
   "source": [
    "# P-value\n",
    "\n",
    "1 - sp.chi2.cdf(statistic, df= 6)"
   ]
  },
  {
   "cell_type": "markdown",
   "metadata": {
    "id": "cKkVA-Y-Yj-4"
   },
   "source": [
    "## Standardized residuals\n",
    "\n",
    "The standardized residuals are the difference between the observed values and the standardized values, these have the formula:\n",
    "\n",
    "$$\\text{standardized residuals} = \\frac{Obs-Exp}{\\sqrt{Exp}}$$\n",
    "\n",
    "Where:\n",
    "\n",
    "- Obs, these are the observations.\n",
    "- Exp, are the expected values.\n",
    "\n",
    "The function of the standardized residuals is to quantify the size of the residuals in units of standard deviation and, therefore, they can be easily used to identify outliers: some consider that an observation with a standardized residual greater than 3 (in value absolute) is an outlier."
   ]
  },
  {
   "cell_type": "code",
   "execution_count": 20,
   "metadata": {
    "colab": {
     "base_uri": "https://localhost:8080/"
    },
    "id": "z0OZ_XB8iKSH",
    "outputId": "0c280e1b-64df-4251-db00-e889d1e4221a"
   },
   "outputs": [
    {
     "data": {
      "text/plain": [
       "array([-1, -2, -1, -1, -2,  4,  3])"
      ]
     },
     "execution_count": 20,
     "metadata": {},
     "output_type": "execute_result"
    }
   ],
   "source": [
    "f_step_res = observed_data - expected_data\n",
    "f_step_res"
   ]
  },
  {
   "cell_type": "code",
   "execution_count": 21,
   "metadata": {
    "colab": {
     "base_uri": "https://localhost:8080/"
    },
    "id": "0f-uaGENiJ5-",
    "outputId": "6fa08604-cf11-4bd8-c4e8-f260941b280c"
   },
   "outputs": [
    {
     "data": {
      "text/plain": [
       "array([-0.33333333, -0.70710678, -0.30151134, -0.35355339, -0.63245553,\n",
       "        1.51185789,  1.22474487])"
      ]
     },
     "execution_count": 21,
     "metadata": {},
     "output_type": "execute_result"
    }
   ],
   "source": [
    "s_step_res = f_step_res / np.sqrt(expected_data)\n",
    "s_step_res"
   ]
  },
  {
   "cell_type": "markdown",
   "metadata": {
    "id": "LB2mYEwuLECs"
   },
   "source": [
    "### Graphically\n",
    "\n",
    "In the graph we can see how the two bars on the far right are far from the rest."
   ]
  },
  {
   "cell_type": "code",
   "execution_count": 22,
   "metadata": {
    "colab": {
     "base_uri": "https://localhost:8080/",
     "height": 265
    },
    "id": "4PGnnzAeLMp2",
    "outputId": "34bf36bf-2039-4a77-83d6-d183c987058f"
   },
   "outputs": [
    {
     "data": {
      "image/png": "[encoded data removed]",
      "text/plain": [
       "<Figure size 640x480 with 1 Axes>"
      ]
     },
     "metadata": {},
     "output_type": "display_data"
    }
   ],
   "source": [
    "plt.bar(range(1,8), s_step_res)\n",
    "plt.show()"
   ]
  },
  {
   "cell_type": "markdown",
   "metadata": {
    "id": "4j3eQfY3LwiR"
   },
   "source": [
    "### How can you read this graph?\n",
    "Using standardized residuals, we have a graph where we can observe the observed values against the expected ones."
   ]
  },
  {
   "cell_type": "code",
   "execution_count": 23,
   "metadata": {
    "colab": {
     "base_uri": "https://localhost:8080/",
     "height": 592
    },
    "id": "qZe72tRpOaFc",
    "outputId": "df4ec29e-9635-4a00-b996-475960d90d15"
   },
   "outputs": [
    {
     "data": {
      "image/png": "[encoded data removed]",
      "text/plain": [
       "<Figure size 1300x1000 with 1 Axes>"
      ]
     },
     "metadata": {},
     "output_type": "display_data"
    }
   ],
   "source": [
    "plt.figure(figsize= (13, 10))\n",
    "\n",
    "plt.bar([\"A\", \"B\", \"C\"], [1.4, -4.2, 5.1], color= [\"#F6E1C3\", \"#E9A178\", \"#A84448\"])\n",
    "plt.axhline(3, ls= \"--\", color= \"r\")\n",
    "plt.axhline(-3, ls= \"--\", color= \"r\")\n",
    "plt.text(\"A\", 3.5, \"The usual ranges for\")\n",
    "plt.text(\"A\", 3, \"determine outliers are from 3 to -3\")\n",
    "plt.text(\"B\", -4, \"Observed values lower than expected\")\n",
    "plt.text(\"C\", 4, \"Observed values lower than expected\")\n",
    "plt.show()"
   ]
  },
  {
   "cell_type": "markdown",
   "metadata": {
    "id": "yoZZZPrReM7c"
   },
   "source": [
    "### Comparison Chart\n",
    "\n",
    "It is possible to see the contrast between expected and observed values in a bar graph, to have better detail, a good idea is to name each column with the name of the variable it represents, such as if they were sales of beverages, it would be a good to put the name of each drink that each column represents, in the example they will be named as \"value 1\", \"value 2\", \"value 3\"..."
   ]
  },
  {
   "cell_type": "code",
   "execution_count": 24,
   "metadata": {
    "colab": {
     "base_uri": "https://localhost:8080/",
     "height": 415
    },
    "id": "zDUbNE_7bXdK",
    "outputId": "72ffcf65-5f80-44e0-f005-85448e666648"
   },
   "outputs": [
    {
     "data": {
      "image/png": "[encoded data removed]",
      "text/plain": [
       "<Figure size 1300x600 with 1 Axes>"
      ]
     },
     "metadata": {},
     "output_type": "display_data"
    }
   ],
   "source": [
    "import pandas as pd\n",
    "\n",
    "data_df = pd.DataFrame({\"Observed\": observed_data,\n",
    "                         \"Expected\": expected_data,\n",
    "                         # Let's increase a column values to put it inside the indices and name the columns in the chart.\n",
    "                         \"Values\": [\"Value 1\", \"Value 2\", \"Value 3\", \"Value 4\", \"Value 5\", \"Value 6\", \"Value 7\"]})\n",
    "data_df.set_index(\"Values\", inplace=True)\n",
    "data_df.plot(kind= \"bar\", figsize= (13, 6), color= [\"#A86464\", \"#B3E5BE\"])\n",
    "\n",
    "plt.show()"
   ]
  },
  {
   "cell_type": "markdown",
   "metadata": {
    "id": "s3cV4G-Rfqc4"
   },
   "source": [
    "# Chi-Square homogeneity/independence\n",
    "\n",
    "The chi-square goodness of fit test is used to test whether the **frequency distribution of a categorical variable is different from your expectations, otherwise actual versus expected**. The \"chi-square test of homogeneity/independence\" test is used to test whether two categorical variables are related to each other, in two ways depending on the type of test:\n",
    "\n",
    "- Homogeneity, The chi-square test of homogeneity tests whether the different groups are homogeneous, which means that they have the same distribution of the categorical variable.\n",
    "\n",
    "- Independence, the chi-square test of independence verifies whether the two categorical variables are independent."
   ]
  },
  {
   "cell_type": "markdown",
   "metadata": {
    "id": "_BG8zNxclTGR"
   },
   "source": [
    "## Steps\n",
    "\n",
    "- State the null and alternative hypotheses.\n",
    "\n",
    "- Check the assumptions and conditions.\n",
    "\n",
    "- Calculate test statistics.\n",
    "\n",
    "- Make a decision using p-values or critical values."
   ]
  },
  {
   "cell_type": "markdown",
   "metadata": {
    "id": "RAX-alILli8_"
   },
   "source": [
    "## Hypothesis\n",
    "\n",
    "In this case we have two different types of hypotheses, depending on the case, on the one hand we have for independence and on the other for homogeneity.\n",
    "\n",
    "* Homogeneity\n",
    "\n",
    "$H_0$ Null hypothesis | $H_a$ Alternative hypothesis\n",
    "--- | ---\n",
    "The distribution of the groups is the same | The distribution of the groups is different\n",
    "\n",
    "* Independence\n",
    "\n",
    "$H_0$ Null hypothesis | $H_a$ Alternative hypothesis\n",
    "--- | ---\n",
    "The two variables are independent | The two variables are not independent"
   ]
  },
  {
   "cell_type": "markdown",
   "metadata": {
    "id": "bNzxizE1BuJk"
   },
   "source": [
    "## Assumptions\n",
    "\n",
    "- Counted data condition: Data must be counted for the categories of a categorical variable.\n",
    "\n",
    "- Assumption of independence: the counts in the cells should be independent of each other (think about how the data was collected)\n",
    "\n",
    "- Randomization condition: the individuals counted must be a random sample of the population.\n",
    "\n",
    "- Expected cell frequency/Sample size Condition: Expect at least 5 individuals per cell."
   ]
  },
  {
   "cell_type": "markdown",
   "metadata": {
    "id": "8-zYuenZFeB4"
   },
   "source": [
    "## Calculate\n",
    "\n",
    "In this case, the chi-square test is calculated in the same way as the previous one, only with a few differences, so the formula is:\n",
    "\n",
    "$$x^2 = \\sum{\\frac{(Obs-Exp)^2}{Exp}}$$\n",
    "\n",
    "Where:\n",
    "\n",
    "- Obs(observations), are the observations, these are the total values.\n",
    "- Exp(expectations), are the expected ones, these are calculated in a special way for this case, which is:\n",
    "\n",
    "$$Exp = \\frac{\\text{Row Total x Column Total}}{\\text{Table Total}}$$\n",
    "\n",
    "Where:\n",
    "\n",
    "- Row Total, is the sum of all elements in row $\\sum{row}$.\n",
    "\n",
    "- Column Total, is the total sum of all elements in column $\\sum{column}$\n",
    "\n",
    "As an example we have the following table:\n",
    "\n",
    "groups | Var 1 | Var 2\n",
    "--- | --- | ---\n",
    "Group 1 | 10 | 13\n",
    "Group 2 | 20 | eleven\n",
    "Group 3 | 14 | 23\n",
    "\n",
    "So the procedure is to take the sum of the row and column of the first value:\n",
    "\n",
    "$$col = 10 + 20 + 14 = 44$$\n",
    "$$row = 10 + 13 = 23$$\n",
    "\n",
    "And now the $Exp$ is calculated for the first value:\n",
    "\n",
    "$$Exp = \\frac{44 \\cdot{23}}{10 + 20 + 14 + 13 + 11 +23} = \\frac{1012}{91} = 11.12$$\n",
    "\n",
    "So that the $Exp$ for the first value(10) is 11.12, now the same operation is performed for each value within the table, having a table of the form:\n",
    "\n",
    "groups | Var 1 | Var 2\n",
    "--- | --- | ---\n",
    "Group 1 | 11.12 | .\n",
    "Group 2 | . | .\n",
    "Group 3 | . | .\n",
    "\n",
    "In this way, the first table would be that of observed values and the second of expected values. At this point it is important to define the degrees of freedom that in this case must be found in a different way than \"goodness of fit\", this being using the formula:\n",
    "\n",
    "$$df = (R - 1) \\cdot (C - 1)$$\n",
    "\n",
    "Where:\n",
    "\n",
    "- R, is the number of rows.\n",
    "\n",
    "- C, is the number of columns."
   ]
  },
  {
   "cell_type": "markdown",
   "metadata": {
    "id": "0EZmPRlqr2Bw"
   },
   "source": [
    "## Data\n",
    "\n",
    "To exemplify this in python code we will use an imaginary data, which will be of three different types of drinks that a soft drink company wants to observe:\n",
    "\n",
    "```\n",
    "apple = [12, 15, 14]\n",
    "banana = [9, 15, 11]\n",
    "peach = [19, 12, 11]\n",
    "```\n",
    "So the company wants to evaluate preferences for beverages by genre, to determine if they are homogeneous.\n",
    "\n",
    "Here three groups were interviewed, one of men, one of women and one non-binary and the differences in the tastes of these groups were identified."
   ]
  },
  {
   "cell_type": "code",
   "execution_count": 25,
   "metadata": {
    "colab": {
     "base_uri": "https://localhost:8080/",
     "height": 175
    },
    "id": "PcAJy9mfpCtd",
    "outputId": "a2ec4c62-0aa9-494e-b589-74c59f1687ae"
   },
   "outputs": [
    {
     "data": {
      "text/html": [
       "<div>\n",
       "<style scoped>\n",
       "    .dataframe tbody tr th:only-of-type {\n",
       "        vertical-align: middle;\n",
       "    }\n",
       "\n",
       "    .dataframe tbody tr th {\n",
       "        vertical-align: top;\n",
       "    }\n",
       "\n",
       "    .dataframe thead th {\n",
       "        text-align: right;\n",
       "    }\n",
       "</style>\n",
       "<table border=\"1\" class=\"dataframe\">\n",
       "  <thead>\n",
       "    <tr style=\"text-align: right;\">\n",
       "      <th></th>\n",
       "      <th>Apple</th>\n",
       "      <th>Banana</th>\n",
       "      <th>Peach</th>\n",
       "    </tr>\n",
       "    <tr>\n",
       "      <th>Gender</th>\n",
       "      <th></th>\n",
       "      <th></th>\n",
       "      <th></th>\n",
       "    </tr>\n",
       "  </thead>\n",
       "  <tbody>\n",
       "    <tr>\n",
       "      <th>Males</th>\n",
       "      <td>12</td>\n",
       "      <td>9</td>\n",
       "      <td>19</td>\n",
       "    </tr>\n",
       "    <tr>\n",
       "      <th>Females</th>\n",
       "      <td>15</td>\n",
       "      <td>15</td>\n",
       "      <td>12</td>\n",
       "    </tr>\n",
       "    <tr>\n",
       "      <th>NB</th>\n",
       "      <td>14</td>\n",
       "      <td>11</td>\n",
       "      <td>11</td>\n",
       "    </tr>\n",
       "  </tbody>\n",
       "</table>\n",
       "</div>"
      ],
      "text/plain": [
       "         Apple  Banana  Peach\n",
       "Gender                       \n",
       "Males       12       9     19\n",
       "Females     15      15     12\n",
       "NB          14      11     11"
      ]
     },
     "execution_count": 25,
     "metadata": {},
     "output_type": "execute_result"
    }
   ],
   "source": [
    "# creating the table\n",
    "\n",
    "import pandas as pd\n",
    "\n",
    "apple = [12, 15, 14]\n",
    "banana = [9, 15, 11]\n",
    "peach = [19, 12, 11]\n",
    "genres = [\"Males\", \"Females\", \"NB\"]\n",
    "\n",
    "bev_df = pd.DataFrame({\"Apple\": apple,\n",
    "                       \"Banana\": banana,\n",
    "                       \"Peach\": peach,\n",
    "                       \"Gender\": genres})\n",
    "bev_df.set_index(\"Gender\", inplace= True)\n",
    "bev_df"
   ]
  },
  {
   "cell_type": "markdown",
   "metadata": {
    "id": "nAxrTGU2wopC"
   },
   "source": [
    "### Chi square test"
   ]
  },
  {
   "cell_type": "code",
   "execution_count": 26,
   "metadata": {
    "colab": {
     "base_uri": "https://localhost:8080/"
    },
    "id": "pHk2D0U5vn9c",
    "outputId": "c19b3a19-baca-43e0-b293-329153ada721"
   },
   "outputs": [
    {
     "data": {
      "text/plain": [
       "(4.100311284405361,\n",
       " 0.39260038258292096,\n",
       " 4,\n",
       " array([[13.89830508, 11.86440678, 14.23728814],\n",
       "        [14.59322034, 12.45762712, 14.94915254],\n",
       "        [12.50847458, 10.6779661 , 12.81355932]]))"
      ]
     },
     "execution_count": 26,
     "metadata": {},
     "output_type": "execute_result"
    }
   ],
   "source": [
    "exp = sp.chi2_contingency(bev_df)\n",
    "exp"
   ]
  },
  {
   "cell_type": "markdown",
   "metadata": {
    "id": "7U-oZyn-1SQq"
   },
   "source": [
    "Here we have a p - value of 0.392600... so it is solved as follows:\n",
    "\n",
    "Quiz | $H_0$ Null hypothesis(p >= $\\alpha$) | $H_a$ Alternative Hypothesis(p < $\\alpha$)\n",
    "--- | --- | ---\n",
    "Homogeneity | There is significant evidence that the distribution of the groups is the same. | There is significant evidence that the distribution of the groups differs.\n",
    "Independence | There is significant evidence that the variables are independent. | There is significant evidence that the variables are not independent.\n",
    "\n",
    "In this case, an $\\alpha$ of 5% or 0.05 will be used, so that having a higher p-value and being a homogeneity test, it can be said that the distribution of the groups is the same. **This fails to reject the null hypothesis**."
   ]
  },
  {
   "cell_type": "markdown",
   "metadata": {
    "id": "1jYNJwMy5REU"
   },
   "source": [
    "## Example in real life\n",
    "For the previous example we work with a database proposed by us but we are going to see the application with a real database"
   ]
  },
  {
   "cell_type": "markdown",
   "metadata": {
    "id": "qqpVpwpB6JCy"
   },
   "source": [
    "### Data\n",
    "\n",
    "For this example we will use a \"statmodels\" database, which has information from the 1980 U.S. census, this census has information from 956 cities and is found in Stata."
   ]
  },
  {
   "cell_type": "code",
   "execution_count": 27,
   "metadata": {
    "colab": {
     "base_uri": "https://localhost:8080/"
    },
    "id": "qdN7Gk1CcaeO",
    "outputId": "252ea45b-ee33-40af-ded2-f312b3170c51"
   },
   "outputs": [
    {
     "name": "stdout",
     "output_type": "stream",
     "text": [
      "Collecting researchpy\n",
      "  Downloading researchpy-0.3.5-py3-none-any.whl (33 kB)\n",
      "Requirement already satisfied: numpy in c:\\users\\adrian\\anaconda3\\lib\\site-packages (from researchpy) (1.21.5)\n",
      "Requirement already satisfied: scipy in c:\\users\\adrian\\anaconda3\\lib\\site-packages (from researchpy) (1.9.1)\n",
      "Requirement already satisfied: statsmodels in c:\\users\\adrian\\anaconda3\\lib\\site-packages (from researchpy) (0.13.2)\n",
      "Requirement already satisfied: patsy in c:\\users\\adrian\\anaconda3\\lib\\site-packages (from researchpy) (0.5.2)\n",
      "Requirement already satisfied: pandas in c:\\users\\adrian\\anaconda3\\lib\\site-packages (from researchpy) (1.4.4)\n",
      "Requirement already satisfied: pytz>=2020.1 in c:\\users\\adrian\\anaconda3\\lib\\site-packages (from pandas->researchpy) (2022.1)\n",
      "Requirement already satisfied: python-dateutil>=2.8.1 in c:\\users\\adrian\\anaconda3\\lib\\site-packages (from pandas->researchpy) (2.8.2)\n",
      "Requirement already satisfied: six in c:\\users\\adrian\\anaconda3\\lib\\site-packages (from patsy->researchpy) (1.16.0)\n",
      "Requirement already satisfied: packaging>=21.3 in c:\\users\\adrian\\anaconda3\\lib\\site-packages (from statsmodels->researchpy) (21.3)\n",
      "Requirement already satisfied: pyparsing!=3.0.5,>=2.0.2 in c:\\users\\adrian\\anaconda3\\lib\\site-packages (from packaging>=21.3->statsmodels->researchpy) (3.0.9)\n",
      "Installing collected packages: researchpy\n",
      "Successfully installed researchpy-0.3.5\n"
     ]
    }
   ],
   "source": [
    "!pip install researchpy"
   ]
  },
  {
   "cell_type": "code",
   "execution_count": 28,
   "metadata": {
    "colab": {
     "base_uri": "https://localhost:8080/",
     "height": 206
    },
    "id": "VFbfaHQr5vAw",
    "outputId": "9cc2e704-550e-489a-e91d-46024262d1ba"
   },
   "outputs": [
    {
     "data": {
      "text/html": [
       "<div>\n",
       "<style scoped>\n",
       "    .dataframe tbody tr th:only-of-type {\n",
       "        vertical-align: middle;\n",
       "    }\n",
       "\n",
       "    .dataframe tbody tr th {\n",
       "        vertical-align: top;\n",
       "    }\n",
       "\n",
       "    .dataframe thead th {\n",
       "        text-align: right;\n",
       "    }\n",
       "</style>\n",
       "<table border=\"1\" class=\"dataframe\">\n",
       "  <thead>\n",
       "    <tr style=\"text-align: right;\">\n",
       "      <th></th>\n",
       "      <th>division</th>\n",
       "      <th>region</th>\n",
       "      <th>heatdd</th>\n",
       "      <th>cooldd</th>\n",
       "      <th>tempjan</th>\n",
       "      <th>tempjuly</th>\n",
       "      <th>agecat</th>\n",
       "    </tr>\n",
       "  </thead>\n",
       "  <tbody>\n",
       "    <tr>\n",
       "      <th>1</th>\n",
       "      <td>N. Eng.</td>\n",
       "      <td>NE</td>\n",
       "      <td>7947.0</td>\n",
       "      <td>250.0</td>\n",
       "      <td>18.200001</td>\n",
       "      <td>68.000000</td>\n",
       "      <td>19-29</td>\n",
       "    </tr>\n",
       "    <tr>\n",
       "      <th>2</th>\n",
       "      <td>Mid Atl</td>\n",
       "      <td>NE</td>\n",
       "      <td>7480.0</td>\n",
       "      <td>424.0</td>\n",
       "      <td>18.400000</td>\n",
       "      <td>70.199997</td>\n",
       "      <td>19-29</td>\n",
       "    </tr>\n",
       "    <tr>\n",
       "      <th>3</th>\n",
       "      <td>N. Eng.</td>\n",
       "      <td>NE</td>\n",
       "      <td>7482.0</td>\n",
       "      <td>353.0</td>\n",
       "      <td>19.900000</td>\n",
       "      <td>69.500000</td>\n",
       "      <td>19-29</td>\n",
       "    </tr>\n",
       "    <tr>\n",
       "      <th>4</th>\n",
       "      <td>N. Eng.</td>\n",
       "      <td>NE</td>\n",
       "      <td>7482.0</td>\n",
       "      <td>353.0</td>\n",
       "      <td>19.900000</td>\n",
       "      <td>69.500000</td>\n",
       "      <td>19-29</td>\n",
       "    </tr>\n",
       "    <tr>\n",
       "      <th>5</th>\n",
       "      <td>Mid Atl</td>\n",
       "      <td>NE</td>\n",
       "      <td>7368.0</td>\n",
       "      <td>425.0</td>\n",
       "      <td>20.100000</td>\n",
       "      <td>69.800003</td>\n",
       "      <td>19-29</td>\n",
       "    </tr>\n",
       "  </tbody>\n",
       "</table>\n",
       "</div>"
      ],
      "text/plain": [
       "  division region  heatdd  cooldd    tempjan   tempjuly agecat\n",
       "1  N. Eng.     NE  7947.0   250.0  18.200001  68.000000  19-29\n",
       "2  Mid Atl     NE  7480.0   424.0  18.400000  70.199997  19-29\n",
       "3  N. Eng.     NE  7482.0   353.0  19.900000  69.500000  19-29\n",
       "4  N. Eng.     NE  7482.0   353.0  19.900000  69.500000  19-29\n",
       "5  Mid Atl     NE  7368.0   425.0  20.100000  69.800003  19-29"
      ]
     },
     "execution_count": 28,
     "metadata": {},
     "output_type": "execute_result"
    }
   ],
   "source": [
    "import pandas as pd\n",
    "import researchpy as rp\n",
    "import scipy.stats as stats\n",
    "import statsmodels.api as sm\n",
    "\n",
    "data = sm.datasets.webuse(\"citytemp2\")\n",
    "data.dropna(inplace= True)\n",
    "data.head()"
   ]
  },
  {
   "cell_type": "markdown",
   "metadata": {
    "id": "_ST9VIYy8cnb"
   },
   "source": [
    "### Info description\n",
    "Here we can see that we have only 3 categorical variables, which are: \"division\", \"region\" and \"agecat\".\n",
    "\n",
    "From here we will take \"agecat\" and \"region\" for the chi-square test."
   ]
  },
  {
   "cell_type": "code",
   "execution_count": 29,
   "metadata": {
    "colab": {
     "base_uri": "https://localhost:8080/"
    },
    "id": "Um3_pglr6AsS",
    "outputId": "ed9b2d7d-25e1-472f-c2fb-1ab01bd89e7b"
   },
   "outputs": [
    {
     "name": "stdout",
     "output_type": "stream",
     "text": [
      "<class 'pandas.core.frame.DataFrame'>\n",
      "Int64Index: 953 entries, 1 to 955\n",
      "Data columns (total 7 columns):\n",
      " #   Column    Non-Null Count  Dtype   \n",
      "---  ------    --------------  -----   \n",
      " 0   division  953 non-null    category\n",
      " 1   region    953 non-null    category\n",
      " 2   heatdd    953 non-null    float64 \n",
      " 3   cooldd    953 non-null    float64 \n",
      " 4   tempjan   953 non-null    float32 \n",
      " 5   tempjuly  953 non-null    float32 \n",
      " 6   agecat    953 non-null    category\n",
      "dtypes: category(3), float32(2), float64(2)\n",
      "memory usage: 33.3 KB\n"
     ]
    }
   ],
   "source": [
    "data.info()"
   ]
  },
  {
   "cell_type": "markdown",
   "metadata": {
    "id": "-_Ydq1bW9Iyv"
   },
   "source": [
    "### Identifying data by variables"
   ]
  },
  {
   "cell_type": "code",
   "execution_count": 30,
   "metadata": {
    "colab": {
     "base_uri": "https://localhost:8080/",
     "height": 269
    },
    "id": "1oVveOHX9CxG",
    "outputId": "5a02afd1-a0ac-4ea8-cc1e-6ba0777504ba"
   },
   "outputs": [
    {
     "data": {
      "text/html": [
       "<div>\n",
       "<style scoped>\n",
       "    .dataframe tbody tr th:only-of-type {\n",
       "        vertical-align: middle;\n",
       "    }\n",
       "\n",
       "    .dataframe tbody tr th {\n",
       "        vertical-align: top;\n",
       "    }\n",
       "\n",
       "    .dataframe thead th {\n",
       "        text-align: right;\n",
       "    }\n",
       "</style>\n",
       "<table border=\"1\" class=\"dataframe\">\n",
       "  <thead>\n",
       "    <tr style=\"text-align: right;\">\n",
       "      <th></th>\n",
       "      <th>Variable</th>\n",
       "      <th>Outcome</th>\n",
       "      <th>Count</th>\n",
       "      <th>Percent</th>\n",
       "    </tr>\n",
       "  </thead>\n",
       "  <tbody>\n",
       "    <tr>\n",
       "      <th>0</th>\n",
       "      <td>agecat</td>\n",
       "      <td>19-29</td>\n",
       "      <td>506</td>\n",
       "      <td>53.10</td>\n",
       "    </tr>\n",
       "    <tr>\n",
       "      <th>1</th>\n",
       "      <td></td>\n",
       "      <td>30-34</td>\n",
       "      <td>316</td>\n",
       "      <td>33.16</td>\n",
       "    </tr>\n",
       "    <tr>\n",
       "      <th>2</th>\n",
       "      <td></td>\n",
       "      <td>35+</td>\n",
       "      <td>131</td>\n",
       "      <td>13.75</td>\n",
       "    </tr>\n",
       "    <tr>\n",
       "      <th>3</th>\n",
       "      <td>region</td>\n",
       "      <td>N Cntrl</td>\n",
       "      <td>284</td>\n",
       "      <td>29.80</td>\n",
       "    </tr>\n",
       "    <tr>\n",
       "      <th>4</th>\n",
       "      <td></td>\n",
       "      <td>West</td>\n",
       "      <td>256</td>\n",
       "      <td>26.86</td>\n",
       "    </tr>\n",
       "    <tr>\n",
       "      <th>5</th>\n",
       "      <td></td>\n",
       "      <td>South</td>\n",
       "      <td>250</td>\n",
       "      <td>26.23</td>\n",
       "    </tr>\n",
       "    <tr>\n",
       "      <th>6</th>\n",
       "      <td></td>\n",
       "      <td>NE</td>\n",
       "      <td>163</td>\n",
       "      <td>17.10</td>\n",
       "    </tr>\n",
       "  </tbody>\n",
       "</table>\n",
       "</div>"
      ],
      "text/plain": [
       "  Variable  Outcome  Count  Percent\n",
       "0   agecat    19-29    506    53.10\n",
       "1             30-34    316    33.16\n",
       "2               35+    131    13.75\n",
       "3   region  N Cntrl    284    29.80\n",
       "4              West    256    26.86\n",
       "5             South    250    26.23\n",
       "6                NE    163    17.10"
      ]
     },
     "execution_count": 30,
     "metadata": {},
     "output_type": "execute_result"
    }
   ],
   "source": [
    "rp.summary_cat(data[[\"agecat\", \"region\"]])"
   ]
  },
  {
   "cell_type": "markdown",
   "metadata": {
    "id": "d8qoEJd19R2A"
   },
   "source": [
    "### Creating a crosstab\n",
    "Here we can more or less see the proportions by age within each region, **this is the table of observations for the chi-square test**."
   ]
  },
  {
   "cell_type": "code",
   "execution_count": 31,
   "metadata": {
    "colab": {
     "base_uri": "https://localhost:8080/",
     "height": 206
    },
    "id": "8dgIY_1X9ROQ",
    "outputId": "c47b35bb-7724-49b5-df83-a50ce4652d59"
   },
   "outputs": [
    {
     "data": {
      "text/html": [
       "<div>\n",
       "<style scoped>\n",
       "    .dataframe tbody tr th:only-of-type {\n",
       "        vertical-align: middle;\n",
       "    }\n",
       "\n",
       "    .dataframe tbody tr th {\n",
       "        vertical-align: top;\n",
       "    }\n",
       "\n",
       "    .dataframe thead th {\n",
       "        text-align: right;\n",
       "    }\n",
       "</style>\n",
       "<table border=\"1\" class=\"dataframe\">\n",
       "  <thead>\n",
       "    <tr style=\"text-align: right;\">\n",
       "      <th>agecat</th>\n",
       "      <th>19-29</th>\n",
       "      <th>30-34</th>\n",
       "      <th>35+</th>\n",
       "    </tr>\n",
       "    <tr>\n",
       "      <th>region</th>\n",
       "      <th></th>\n",
       "      <th></th>\n",
       "      <th></th>\n",
       "    </tr>\n",
       "  </thead>\n",
       "  <tbody>\n",
       "    <tr>\n",
       "      <th>NE</th>\n",
       "      <td>45</td>\n",
       "      <td>83</td>\n",
       "      <td>35</td>\n",
       "    </tr>\n",
       "    <tr>\n",
       "      <th>N Cntrl</th>\n",
       "      <td>162</td>\n",
       "      <td>92</td>\n",
       "      <td>30</td>\n",
       "    </tr>\n",
       "    <tr>\n",
       "      <th>South</th>\n",
       "      <td>139</td>\n",
       "      <td>68</td>\n",
       "      <td>43</td>\n",
       "    </tr>\n",
       "    <tr>\n",
       "      <th>West</th>\n",
       "      <td>160</td>\n",
       "      <td>73</td>\n",
       "      <td>23</td>\n",
       "    </tr>\n",
       "  </tbody>\n",
       "</table>\n",
       "</div>"
      ],
      "text/plain": [
       "agecat   19-29  30-34  35+\n",
       "region                    \n",
       "NE          45     83   35\n",
       "N Cntrl    162     92   30\n",
       "South      139     68   43\n",
       "West       160     73   23"
      ]
     },
     "execution_count": 31,
     "metadata": {},
     "output_type": "execute_result"
    }
   ],
   "source": [
    "crosstab = pd.crosstab(data[\"region\"], data[\"agecat\"])\n",
    "\n",
    "crosstab"
   ]
  },
  {
   "cell_type": "markdown",
   "metadata": {
    "id": "1EejVcuS9q0E"
   },
   "source": [
    "### Test with scipy\n",
    "Now we can carry out the test using the scipy library, which gives us the statistic, the p-value, the degrees of freedom and a table which is the expected values (EXP)."
   ]
  },
  {
   "cell_type": "code",
   "execution_count": 32,
   "metadata": {
    "colab": {
     "base_uri": "https://localhost:8080/"
    },
    "id": "oiVZ91uI9yYN",
    "outputId": "79239153-da0f-492e-8624-4ef9bbba0a6d"
   },
   "outputs": [
    {
     "data": {
      "text/plain": [
       "(60.799830882728195,\n",
       " 3.095648861054178e-11,\n",
       " 6,\n",
       " array([[ 86.54564533,  54.04826863,  22.40608604],\n",
       "        [150.79118573,  94.16998951,  39.03882476],\n",
       "        [132.73871983,  82.89611752,  34.36516264],\n",
       "        [135.92444911,  84.88562434,  35.18992655]]))"
      ]
     },
     "execution_count": 32,
     "metadata": {},
     "output_type": "execute_result"
    }
   ],
   "source": [
    "stats.chi2_contingency(crosstab)"
   ]
  },
  {
   "cell_type": "markdown",
   "metadata": {
    "id": "k1KEMfwF92LN"
   },
   "source": [
    "### Test with researchpy\n",
    "\n",
    "With the previous test we already did our test in python but we also have a more versatile alternative, which is researchpy, this can give us more information if required."
   ]
  },
  {
   "cell_type": "code",
   "execution_count": 33,
   "metadata": {
    "id": "MdmmwrVY-Ku3"
   },
   "outputs": [],
   "source": [
    "crosstab_perc, test_results, expected = rp.crosstab(data[\"region\"], data[\"agecat\"],\n",
    "                                               test= \"chi-square\",\n",
    "                                               expected_freqs= True,\n",
    "                                               prop= \"cell\")"
   ]
  },
  {
   "cell_type": "markdown",
   "metadata": {
    "id": "UEvtTHLI-Pc_"
   },
   "source": [
    "#### Crosstab\n",
    "\n",
    "Researchpy can give us a crosstab. This represents the observed values (OBS) but as a percentage."
   ]
  },
  {
   "cell_type": "code",
   "execution_count": 34,
   "metadata": {
    "colab": {
     "base_uri": "https://localhost:8080/",
     "height": 269
    },
    "id": "-YSgIi_l-RJv",
    "outputId": "3554ea05-06c3-4e70-d8f0-05c8c7312a91"
   },
   "outputs": [
    {
     "data": {
      "text/html": [
       "<div>\n",
       "<style scoped>\n",
       "    .dataframe tbody tr th:only-of-type {\n",
       "        vertical-align: middle;\n",
       "    }\n",
       "\n",
       "    .dataframe tbody tr th {\n",
       "        vertical-align: top;\n",
       "    }\n",
       "\n",
       "    .dataframe thead tr th {\n",
       "        text-align: left;\n",
       "    }\n",
       "\n",
       "    .dataframe thead tr:last-of-type th {\n",
       "        text-align: right;\n",
       "    }\n",
       "</style>\n",
       "<table border=\"1\" class=\"dataframe\">\n",
       "  <thead>\n",
       "    <tr>\n",
       "      <th></th>\n",
       "      <th colspan=\"4\" halign=\"left\">agecat</th>\n",
       "    </tr>\n",
       "    <tr>\n",
       "      <th>agecat</th>\n",
       "      <th>19-29</th>\n",
       "      <th>30-34</th>\n",
       "      <th>35+</th>\n",
       "      <th>All</th>\n",
       "    </tr>\n",
       "    <tr>\n",
       "      <th>region</th>\n",
       "      <th></th>\n",
       "      <th></th>\n",
       "      <th></th>\n",
       "      <th></th>\n",
       "    </tr>\n",
       "  </thead>\n",
       "  <tbody>\n",
       "    <tr>\n",
       "      <th>NE</th>\n",
       "      <td>4.72</td>\n",
       "      <td>8.71</td>\n",
       "      <td>3.67</td>\n",
       "      <td>17.10</td>\n",
       "    </tr>\n",
       "    <tr>\n",
       "      <th>N Cntrl</th>\n",
       "      <td>17.00</td>\n",
       "      <td>9.65</td>\n",
       "      <td>3.15</td>\n",
       "      <td>29.80</td>\n",
       "    </tr>\n",
       "    <tr>\n",
       "      <th>South</th>\n",
       "      <td>14.59</td>\n",
       "      <td>7.14</td>\n",
       "      <td>4.51</td>\n",
       "      <td>26.23</td>\n",
       "    </tr>\n",
       "    <tr>\n",
       "      <th>West</th>\n",
       "      <td>16.79</td>\n",
       "      <td>7.66</td>\n",
       "      <td>2.41</td>\n",
       "      <td>26.86</td>\n",
       "    </tr>\n",
       "    <tr>\n",
       "      <th>All</th>\n",
       "      <td>53.10</td>\n",
       "      <td>33.16</td>\n",
       "      <td>13.75</td>\n",
       "      <td>100.00</td>\n",
       "    </tr>\n",
       "  </tbody>\n",
       "</table>\n",
       "</div>"
      ],
      "text/plain": [
       "        agecat                      \n",
       "agecat   19-29  30-34    35+     All\n",
       "region                              \n",
       "NE        4.72   8.71   3.67   17.10\n",
       "N Cntrl  17.00   9.65   3.15   29.80\n",
       "South    14.59   7.14   4.51   26.23\n",
       "West     16.79   7.66   2.41   26.86\n",
       "All      53.10  33.16  13.75  100.00"
      ]
     },
     "execution_count": 34,
     "metadata": {},
     "output_type": "execute_result"
    }
   ],
   "source": [
    "crosstab_perc"
   ]
  },
  {
   "cell_type": "markdown",
   "metadata": {
    "id": "VJDQlayiAWoW"
   },
   "source": [
    "#### Expected\n",
    "It is also possible to obtain the expected values (EXP)."
   ]
  },
  {
   "cell_type": "code",
   "execution_count": 35,
   "metadata": {
    "colab": {
     "base_uri": "https://localhost:8080/",
     "height": 237
    },
    "id": "nKtQ9uYZAlSP",
    "outputId": "d8261ba6-9b1b-4650-edd4-8fad30a38a07"
   },
   "outputs": [
    {
     "data": {
      "text/html": [
       "<div>\n",
       "<style scoped>\n",
       "    .dataframe tbody tr th:only-of-type {\n",
       "        vertical-align: middle;\n",
       "    }\n",
       "\n",
       "    .dataframe tbody tr th {\n",
       "        vertical-align: top;\n",
       "    }\n",
       "\n",
       "    .dataframe thead tr th {\n",
       "        text-align: left;\n",
       "    }\n",
       "\n",
       "    .dataframe thead tr:last-of-type th {\n",
       "        text-align: right;\n",
       "    }\n",
       "</style>\n",
       "<table border=\"1\" class=\"dataframe\">\n",
       "  <thead>\n",
       "    <tr>\n",
       "      <th></th>\n",
       "      <th colspan=\"3\" halign=\"left\">agecat</th>\n",
       "    </tr>\n",
       "    <tr>\n",
       "      <th>agecat</th>\n",
       "      <th>19-29</th>\n",
       "      <th>30-34</th>\n",
       "      <th>35+</th>\n",
       "    </tr>\n",
       "    <tr>\n",
       "      <th>region</th>\n",
       "      <th></th>\n",
       "      <th></th>\n",
       "      <th></th>\n",
       "    </tr>\n",
       "  </thead>\n",
       "  <tbody>\n",
       "    <tr>\n",
       "      <th>NE</th>\n",
       "      <td>86.545645</td>\n",
       "      <td>54.048269</td>\n",
       "      <td>22.406086</td>\n",
       "    </tr>\n",
       "    <tr>\n",
       "      <th>N Cntrl</th>\n",
       "      <td>150.791186</td>\n",
       "      <td>94.169990</td>\n",
       "      <td>39.038825</td>\n",
       "    </tr>\n",
       "    <tr>\n",
       "      <th>South</th>\n",
       "      <td>132.738720</td>\n",
       "      <td>82.896118</td>\n",
       "      <td>34.365163</td>\n",
       "    </tr>\n",
       "    <tr>\n",
       "      <th>West</th>\n",
       "      <td>135.924449</td>\n",
       "      <td>84.885624</td>\n",
       "      <td>35.189927</td>\n",
       "    </tr>\n",
       "  </tbody>\n",
       "</table>\n",
       "</div>"
      ],
      "text/plain": [
       "             agecat                      \n",
       "agecat        19-29      30-34        35+\n",
       "region                                   \n",
       "NE        86.545645  54.048269  22.406086\n",
       "N Cntrl  150.791186  94.169990  39.038825\n",
       "South    132.738720  82.896118  34.365163\n",
       "West     135.924449  84.885624  35.189927"
      ]
     },
     "execution_count": 35,
     "metadata": {},
     "output_type": "execute_result"
    }
   ],
   "source": [
    "expected"
   ]
  },
  {
   "cell_type": "markdown",
   "metadata": {
    "id": "_crbf3AY-Y74"
   },
   "source": [
    "#### Results\n",
    "\n",
    "We can obtain the results where the value of the test is the same as the one obtained in scipy and the value p as well since in both it is 0, only that scipy provides us with many more digits, but unlike scipy using researchpy we obtain the statistic of \" **Cramer's V**\".\n",
    "\n",
    "A separate point is necessary at this point to clarify what this \"Cramer's V\" statistic is. Chi-square is a measure of statistical significance. Answer the question: \"Is there a relationship between our dependent variable and our independent variable?\" (this is in case of using it to determine if there is a relationship between variables or they are **independent**) Cramer's V is a measure of substantive importance. Answer the question: \"How strong does the relationship seem to be?\" This Cramer value ranges from 1 to 0 and has an effect equal to that of the Pearson correlation, the closer to 1 the more relationship exists between the variables."
   ]
  },
  {
   "cell_type": "code",
   "execution_count": 36,
   "metadata": {
    "colab": {
     "base_uri": "https://localhost:8080/",
     "height": 143
    },
    "id": "s2cwpu06-box",
    "outputId": "8c8b87cb-42cd-46bd-8e89-f90913da231d"
   },
   "outputs": [
    {
     "data": {
      "text/html": [
       "<div>\n",
       "<style scoped>\n",
       "    .dataframe tbody tr th:only-of-type {\n",
       "        vertical-align: middle;\n",
       "    }\n",
       "\n",
       "    .dataframe tbody tr th {\n",
       "        vertical-align: top;\n",
       "    }\n",
       "\n",
       "    .dataframe thead th {\n",
       "        text-align: right;\n",
       "    }\n",
       "</style>\n",
       "<table border=\"1\" class=\"dataframe\">\n",
       "  <thead>\n",
       "    <tr style=\"text-align: right;\">\n",
       "      <th></th>\n",
       "      <th>Chi-square test</th>\n",
       "      <th>results</th>\n",
       "    </tr>\n",
       "  </thead>\n",
       "  <tbody>\n",
       "    <tr>\n",
       "      <th>0</th>\n",
       "      <td>Pearson Chi-square ( 6.0) =</td>\n",
       "      <td>60.7998</td>\n",
       "    </tr>\n",
       "    <tr>\n",
       "      <th>1</th>\n",
       "      <td>p-value =</td>\n",
       "      <td>0.0000</td>\n",
       "    </tr>\n",
       "    <tr>\n",
       "      <th>2</th>\n",
       "      <td>Cramer's V =</td>\n",
       "      <td>0.1786</td>\n",
       "    </tr>\n",
       "  </tbody>\n",
       "</table>\n",
       "</div>"
      ],
      "text/plain": [
       "                Chi-square test  results\n",
       "0  Pearson Chi-square ( 6.0) =   60.7998\n",
       "1                    p-value =    0.0000\n",
       "2                 Cramer's V =    0.1786"
      ]
     },
     "execution_count": 36,
     "metadata": {},
     "output_type": "execute_result"
    }
   ],
   "source": [
    "test_results"
   ]
  },
  {
   "cell_type": "markdown",
   "metadata": {
    "id": "PcatuQHeFYvB"
   },
   "source": [
    "Here we can observe a relationship of 0.17, which is too weak to say that both variables have some relationship."
   ]
  },
  {
   "cell_type": "markdown",
   "metadata": {
    "id": "6WJe_1QPFxqb"
   },
   "source": [
    "## Standardized residuals\n",
    "\n",
    "Once again, standardized residuals can be used to better understand what happens inside, using the same formula:\n",
    "\n",
    "$$\\text{standardized residuals} = \\frac{Obs-Exp}{\\sqrt{Exp}}$$\n",
    "\n",
    "Where:\n",
    "\n",
    "- Obs, these are the observations.\n",
    "- Exp, are the expected values."
   ]
  },
  {
   "cell_type": "code",
   "execution_count": 37,
   "metadata": {
    "colab": {
     "base_uri": "https://localhost:8080/",
     "height": 237
    },
    "id": "Bub-I40EGJVu",
    "outputId": "6c611285-650b-4b08-d072-9cc63c348828"
   },
   "outputs": [
    {
     "data": {
      "text/html": [
       "<div>\n",
       "<style scoped>\n",
       "    .dataframe tbody tr th:only-of-type {\n",
       "        vertical-align: middle;\n",
       "    }\n",
       "\n",
       "    .dataframe tbody tr th {\n",
       "        vertical-align: top;\n",
       "    }\n",
       "\n",
       "    .dataframe thead tr th {\n",
       "        text-align: left;\n",
       "    }\n",
       "\n",
       "    .dataframe thead tr:last-of-type th {\n",
       "        text-align: right;\n",
       "    }\n",
       "</style>\n",
       "<table border=\"1\" class=\"dataframe\">\n",
       "  <thead>\n",
       "    <tr>\n",
       "      <th></th>\n",
       "      <th colspan=\"3\" halign=\"left\">agecat</th>\n",
       "    </tr>\n",
       "    <tr>\n",
       "      <th>agecat</th>\n",
       "      <th>19-29</th>\n",
       "      <th>30-34</th>\n",
       "      <th>35+</th>\n",
       "    </tr>\n",
       "    <tr>\n",
       "      <th>region</th>\n",
       "      <th></th>\n",
       "      <th></th>\n",
       "      <th></th>\n",
       "    </tr>\n",
       "  </thead>\n",
       "  <tbody>\n",
       "    <tr>\n",
       "      <th>NE</th>\n",
       "      <td>-4.465837</td>\n",
       "      <td>3.938072</td>\n",
       "      <td>2.660589</td>\n",
       "    </tr>\n",
       "    <tr>\n",
       "      <th>N Cntrl</th>\n",
       "      <td>0.912792</td>\n",
       "      <td>-0.223615</td>\n",
       "      <td>-1.446650</td>\n",
       "    </tr>\n",
       "    <tr>\n",
       "      <th>South</th>\n",
       "      <td>0.543456</td>\n",
       "      <td>-1.636085</td>\n",
       "      <td>1.472974</td>\n",
       "    </tr>\n",
       "    <tr>\n",
       "      <th>West</th>\n",
       "      <td>2.065035</td>\n",
       "      <td>-1.290045</td>\n",
       "      <td>-2.054906</td>\n",
       "    </tr>\n",
       "  </tbody>\n",
       "</table>\n",
       "</div>"
      ],
      "text/plain": [
       "           agecat                    \n",
       "agecat      19-29     30-34       35+\n",
       "region                               \n",
       "NE      -4.465837  3.938072  2.660589\n",
       "N Cntrl  0.912792 -0.223615 -1.446650\n",
       "South    0.543456 -1.636085  1.472974\n",
       "West     2.065035 -1.290045 -2.054906"
      ]
     },
     "execution_count": 37,
     "metadata": {},
     "output_type": "execute_result"
    }
   ],
   "source": [
    "# The last value has no relevance since it is created by the crosstab method.\n",
    "\n",
    "std_res = (crosstab - expected) / np.sqrt(expected)\n",
    "std_res"
   ]
  },
  {
   "cell_type": "markdown",
   "metadata": {
    "id": "YD9GVIATHDxF"
   },
   "source": [
    "## Graphics to improve the vision of the results\n",
    "\n",
    "The results look somewhat confusing, which worsens if we increase more variables, so the ideal is to use graphs that facilitate the view of the information we obtained.\n",
    "\n",
    "Here we can use three graphs, which are association, mosaic and grouped data that we used previously so that we will start with the grouped data or comparison and later to the other graphs, unfortunately there are no libraries yet to be able to do these graphics in python so we will do it using R."
   ]
  },
  {
   "cell_type": "markdown",
   "metadata": {
    "id": "Wy1eNnKlH-rz"
   },
   "source": [
    "### Grouped data or comparison\n",
    "\n",
    "Here something important to notice are the outliers."
   ]
  },
  {
   "cell_type": "code",
   "execution_count": 38,
   "metadata": {
    "colab": {
     "base_uri": "https://localhost:8080/",
     "height": 413
    },
    "id": "TuwyivI5IAx8",
    "outputId": "dce6e98c-dbde-4506-8a9e-b7351d5e8c9f"
   },
   "outputs": [
    {
     "data": {
      "image/png": "[encoded data removed]",
      "text/plain": [
       "<Figure size 1300x600 with 1 Axes>"
      ]
     },
     "metadata": {},
     "output_type": "display_data"
    }
   ],
   "source": [
    "std_res.plot(kind= \"bar\", figsize= (13, 6), color= [\"#A86464\", \"#B3E5BE\"])\n",
    "plt.axhline(-3, ls= \"--\", color= \"r\")\n",
    "plt.axhline(3, ls= \"--\", color= \"r\")\n",
    "\n",
    "plt.show()"
   ]
  },
  {
   "cell_type": "markdown",
   "metadata": {
    "id": "VkEEbNc0fWPS"
   },
   "source": [
    "### Preparing to use r"
   ]
  },
  {
   "cell_type": "markdown",
   "metadata": {
    "id": "600npX7QflCP"
   },
   "source": [
    "#### Installing R compiler"
   ]
  },
  {
   "cell_type": "code",
   "execution_count": 39,
   "metadata": {
    "colab": {
     "base_uri": "https://localhost:8080/"
    },
    "id": "qli5D5hMfaZR",
    "outputId": "4291748c-dbbf-4b48-f253-0664e407adc1"
   },
   "outputs": [
    {
     "name": "stdout",
     "output_type": "stream",
     "text": [
      "Collecting rpy2==3.5.1\n",
      "  Downloading rpy2-3.5.1.tar.gz (201 kB)\n",
      "     -------------------------------------- 201.7/201.7 kB 4.1 MB/s eta 0:00:00\n",
      "  Preparing metadata (setup.py): started\n",
      "  Preparing metadata (setup.py): finished with status 'done'\n",
      "Requirement already satisfied: cffi>=1.10.0 in c:\\users\\adrian\\anaconda3\\lib\\site-packages (from rpy2==3.5.1) (1.15.1)\n",
      "Requirement already satisfied: jinja2 in c:\\users\\adrian\\anaconda3\\lib\\site-packages (from rpy2==3.5.1) (2.11.3)\n",
      "Requirement already satisfied: pytz in c:\\users\\adrian\\anaconda3\\lib\\site-packages (from rpy2==3.5.1) (2022.1)\n",
      "Collecting tzlocal\n",
      "  Downloading tzlocal-4.2-py3-none-any.whl (19 kB)\n",
      "Requirement already satisfied: pycparser in c:\\users\\adrian\\anaconda3\\lib\\site-packages (from cffi>=1.10.0->rpy2==3.5.1) (2.21)\n",
      "Requirement already satisfied: MarkupSafe>=0.23 in c:\\users\\adrian\\anaconda3\\lib\\site-packages (from jinja2->rpy2==3.5.1) (2.0.1)\n",
      "Collecting pytz-deprecation-shim\n",
      "  Downloading pytz_deprecation_shim-0.1.0.post0-py2.py3-none-any.whl (15 kB)\n",
      "Collecting tzdata\n",
      "  Downloading tzdata-2022.7-py2.py3-none-any.whl (340 kB)\n",
      "     ------------------------------------- 340.1/340.1 kB 20.6 MB/s eta 0:00:00\n",
      "Building wheels for collected packages: rpy2\n",
      "  Building wheel for rpy2 (setup.py): started\n",
      "  Building wheel for rpy2 (setup.py): finished with status 'done'\n",
      "  Created wheel for rpy2: filename=rpy2-3.5.1-py3-none-any.whl size=205888 sha256=f83a28d254bbc557ef02d090a946ce9ab1887cd3cb053812df98db765f42460b\n",
      "  Stored in directory: c:\\users\\adrian\\appdata\\local\\pip\\cache\\wheels\\09\\e7\\bc\\33685b60ab54dba969596dd87244ee9f4c2e83dff9a53d4f20\n",
      "Successfully built rpy2\n",
      "Installing collected packages: tzdata, pytz-deprecation-shim, tzlocal, rpy2\n",
      "Successfully installed pytz-deprecation-shim-0.1.0.post0 rpy2-3.5.1 tzdata-2022.7 tzlocal-4.2\n"
     ]
    }
   ],
   "source": [
    "!pip install rpy2==3.5.1"
   ]
  },
  {
   "cell_type": "markdown",
   "metadata": {
    "id": "L590STaNfs80"
   },
   "source": [
    "#### Using R in collaboration"
   ]
  },
  {
   "cell_type": "code",
   "execution_count": 40,
   "metadata": {
    "id": "tmnEcZWqfdZC"
   },
   "outputs": [
    {
     "name": "stderr",
     "output_type": "stream",
     "text": [
      "Unable to determine R home: [WinError 2] The system cannot find the file specified\n",
      "C:\\Users\\Adrian\\anaconda3\\lib\\site-packages\\rpy2\\robjects\\packages.py:366: UserWarning: The symbol 'quartz' is not in this R namespace/package.\n",
      "  warnings.warn(\n"
     ]
    }
   ],
   "source": [
    "%load_ext rpy2.ipython"
   ]
  },
  {
   "cell_type": "markdown",
   "metadata": {
    "id": "tjLxUa5noGTb"
   },
   "source": [
    "#### Exporting the data"
   ]
  },
  {
   "cell_type": "code",
   "execution_count": 41,
   "metadata": {
    "id": "bdiJDljcn03P"
   },
   "outputs": [],
   "source": [
    "data.to_csv('data.csv')"
   ]
  },
  {
   "cell_type": "markdown",
   "metadata": {
    "id": "ilJoMfNLoNv0"
   },
   "source": [
    "#### Reading the data and creating a contingency table"
   ]
  },
  {
   "cell_type": "code",
   "execution_count": 42,
   "metadata": {
    "colab": {
     "base_uri": "https://localhost:8080/"
    },
    "id": "A7RYEtslohd9",
    "outputId": "163924eb-6c12-4cfa-f754-d3c74281c4f7"
   },
   "outputs": [
    {
     "name": "stdout",
     "output_type": "stream",
     "text": [
      "         \n",
      "          19-29 30-34 35+\n",
      "  N Cntrl   162    92  30\n",
      "  NE         45    83  35\n",
      "  South     139    68  43\n",
      "  West      160    73  23\n"
     ]
    }
   ],
   "source": [
    "%%R\n",
    "\n",
    "df = read.csv('data.csv')\n",
    "\n",
    "cont = table(df$region, df$agecat)\n",
    "\n",
    "cont"
   ]
  },
  {
   "cell_type": "markdown",
   "metadata": {
    "id": "irpWR2iypi16"
   },
   "source": [
    "#### Doing chi test"
   ]
  },
  {
   "cell_type": "code",
   "execution_count": 43,
   "metadata": {
    "colab": {
     "base_uri": "https://localhost:8080/"
    },
    "id": "zow9T_jgpIjs",
    "outputId": "8882cf74-59d1-44b8-a2e5-de72c7aacc35"
   },
   "outputs": [
    {
     "name": "stdout",
     "output_type": "stream",
     "text": [
      "\n",
      "\tPearson's Chi-squared test\n",
      "\n",
      "data:  df$region and df$agecat\n",
      "X-squared = 60.8, df = 6, p-value = 3.096e-11\n",
      "\n"
     ]
    }
   ],
   "source": [
    "%%R\n",
    "\n",
    "ct = chisq.test(df$region, df$agecat)\n",
    "ct"
   ]
  },
  {
   "cell_type": "markdown",
   "metadata": {
    "id": "YRQ5ddR8u-Gu"
   },
   "source": [
    "#### Displaying Residuals"
   ]
  },
  {
   "cell_type": "code",
   "execution_count": 44,
   "metadata": {
    "colab": {
     "base_uri": "https://localhost:8080/"
    },
    "id": "rGWfeayWsmTC",
    "outputId": "f8350b6c-2a50-4105-8589-8c7a7afa63b3"
   },
   "outputs": [
    {
     "name": "stdout",
     "output_type": "stream",
     "text": [
      "         df$agecat\n",
      "df$region      19-29      30-34        35+\n",
      "  N Cntrl  0.9127917 -0.2236152 -1.4466504\n",
      "  NE      -4.4658373  3.9380720  2.6605886\n",
      "  South    0.5434559 -1.6360855  1.4729736\n",
      "  West     2.0650351 -1.2900452 -2.0549058\n"
     ]
    }
   ],
   "source": [
    "%%R\n",
    "\n",
    "# R\n",
    "\n",
    "ct$residuals"
   ]
  },
  {
   "cell_type": "code",
   "execution_count": 45,
   "metadata": {
    "colab": {
     "base_uri": "https://localhost:8080/",
     "height": 237
    },
    "id": "NUMfr66evAL8",
    "outputId": "489dda10-c975-4755-c9c7-67342b9fe115"
   },
   "outputs": [
    {
     "data": {
      "text/html": [
       "<div>\n",
       "<style scoped>\n",
       "    .dataframe tbody tr th:only-of-type {\n",
       "        vertical-align: middle;\n",
       "    }\n",
       "\n",
       "    .dataframe tbody tr th {\n",
       "        vertical-align: top;\n",
       "    }\n",
       "\n",
       "    .dataframe thead tr th {\n",
       "        text-align: left;\n",
       "    }\n",
       "\n",
       "    .dataframe thead tr:last-of-type th {\n",
       "        text-align: right;\n",
       "    }\n",
       "</style>\n",
       "<table border=\"1\" class=\"dataframe\">\n",
       "  <thead>\n",
       "    <tr>\n",
       "      <th></th>\n",
       "      <th colspan=\"3\" halign=\"left\">agecat</th>\n",
       "    </tr>\n",
       "    <tr>\n",
       "      <th>agecat</th>\n",
       "      <th>19-29</th>\n",
       "      <th>30-34</th>\n",
       "      <th>35+</th>\n",
       "    </tr>\n",
       "    <tr>\n",
       "      <th>region</th>\n",
       "      <th></th>\n",
       "      <th></th>\n",
       "      <th></th>\n",
       "    </tr>\n",
       "  </thead>\n",
       "  <tbody>\n",
       "    <tr>\n",
       "      <th>NE</th>\n",
       "      <td>-4.465837</td>\n",
       "      <td>3.938072</td>\n",
       "      <td>2.660589</td>\n",
       "    </tr>\n",
       "    <tr>\n",
       "      <th>N Cntrl</th>\n",
       "      <td>0.912792</td>\n",
       "      <td>-0.223615</td>\n",
       "      <td>-1.446650</td>\n",
       "    </tr>\n",
       "    <tr>\n",
       "      <th>South</th>\n",
       "      <td>0.543456</td>\n",
       "      <td>-1.636085</td>\n",
       "      <td>1.472974</td>\n",
       "    </tr>\n",
       "    <tr>\n",
       "      <th>West</th>\n",
       "      <td>2.065035</td>\n",
       "      <td>-1.290045</td>\n",
       "      <td>-2.054906</td>\n",
       "    </tr>\n",
       "  </tbody>\n",
       "</table>\n",
       "</div>"
      ],
      "text/plain": [
       "           agecat                    \n",
       "agecat      19-29     30-34       35+\n",
       "region                               \n",
       "NE      -4.465837  3.938072  2.660589\n",
       "N Cntrl  0.912792 -0.223615 -1.446650\n",
       "South    0.543456 -1.636085  1.472974\n",
       "West     2.065035 -1.290045 -2.054906"
      ]
     },
     "execution_count": 45,
     "metadata": {},
     "output_type": "execute_result"
    }
   ],
   "source": [
    "# Python\n",
    "\n",
    "std_res"
   ]
  },
  {
   "cell_type": "markdown",
   "metadata": {
    "id": "eElEnAb-YFFG"
   },
   "source": [
    "### Association\n",
    "\n",
    "The association graph has certain characteristics for its correct reading:\n",
    "\n",
    "- Size of the bar, size of the residue.\n",
    "- Thickness of the bar, Size of the expected value.\n",
    "- Color of the bar, Direction of the residue:\n",
    "   - Black, positive.\n",
    "   - Red, negative."
   ]
  },
  {
   "cell_type": "code",
   "execution_count": 46,
   "metadata": {
    "colab": {
     "base_uri": "https://localhost:8080/",
     "height": 497
    },
    "id": "0rC7fnoohZ9Q",
    "outputId": "bde41ace-0c97-4afc-d12f-02e1cc440e09"
   },
   "outputs": [
    {
     "data": {
      "image/png": "[encoded data removed]"
     },
     "metadata": {},
     "output_type": "display_data"
    }
   ],
   "source": [
    "%%R\n",
    "\n",
    "assocplot(cont)"
   ]
  },
  {
   "cell_type": "markdown",
   "metadata": {
    "id": "_TknKVfVvVJV"
   },
   "source": [
    "### Mosaic\n",
    "\n",
    "The mosaic graph has certain characteristics for its reading:\n",
    "\n",
    "- The area of a box is proportional to the observed frequency\n",
    "\n",
    "   - Width of the box, proportional to the frequencies of the rows (marginal probability)\n",
    "\n",
    "   - Box height, cell to total row ratio (conditional probability)\n",
    "\n",
    "- color, waste sign\n",
    "\n",
    "   - Blue, positive\n",
    "\n",
    "   - red, negative\n",
    "\n",
    "- Shading, size of residuals\n",
    "\n",
    "   - No shading, low values, no unusual values\n",
    "  \n",
    "   - Darker, high values, unusual values"
   ]
  },
  {
   "cell_type": "code",
   "execution_count": 47,
   "metadata": {
    "colab": {
     "base_uri": "https://localhost:8080/",
     "height": 497
    },
    "id": "Tsqua6YBwGKo",
    "outputId": "03358bd6-5ed1-44a3-8972-a198744e5e63"
   },
   "outputs": [
    {
     "data": {
      "image/png": "[encoded data removed]"
     },
     "metadata": {},
     "output_type": "display_data"
    }
   ],
   "source": [
    "%%R\n",
    "\n",
    "mosaicplot(cont, shade= TRUE, color= TRUE)"
   ]
  }
 ],
 "metadata": {
  "colab": {
   "provenance": [],
   "toc_visible": true
  },
  "kernelspec": {
   "display_name": "Python 3 (ipykernel)",
   "language": "python",
   "name": "python3"
  },
  "language_info": {
   "codemirror_mode": {
    "name": "ipython",
    "version": 3
   },
   "file_extension": ".py",
   "mimetype": "text/x-python",
   "name": "python",
   "nbconvert_exporter": "python",
   "pygments_lexer": "ipython3",
   "version": "3.9.13"
  }
 },
 "nbformat": 4,
 "nbformat_minor": 1
}
